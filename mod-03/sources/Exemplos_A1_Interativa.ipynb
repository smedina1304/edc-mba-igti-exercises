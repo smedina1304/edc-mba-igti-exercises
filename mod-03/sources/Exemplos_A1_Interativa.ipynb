{
 "cells": [
  {
   "cell_type": "markdown",
   "source": [
    "## Bibliotecas"
   ],
   "metadata": {}
  },
  {
   "cell_type": "code",
   "execution_count": 1,
   "source": [
    "# Carregando os recursos da biblioteca 'pyspark'\n",
    "from pyspark.sql import SparkSession\n",
    "import pyspark.sql.functions as f\n",
    "import pyspark.sql.types as t"
   ],
   "outputs": [],
   "metadata": {}
  },
  {
   "cell_type": "markdown",
   "source": [
    "## Setup"
   ],
   "metadata": {}
  },
  {
   "cell_type": "code",
   "execution_count": 2,
   "source": [
    "# Carregando a biblioteca 'findspark' para possibilidade o uso da SparkSession no Notebook\n",
    "import findspark\n",
    "\n",
    "findspark.init()"
   ],
   "outputs": [],
   "metadata": {}
  },
  {
   "cell_type": "code",
   "execution_count": 3,
   "source": [
    "# Importando a biblioteca `os` para criar uma variável de ambiente SPARK_LOCAL_IP\n",
    "import os\n",
    "\n",
    "os.environ[\"SPARK_LOCAL_IP\"] = \"127.0.0.1\"\n",
    "\n",
    "print ('SPARK_LOCAL_IP:' , os.environ[\"SPARK_LOCAL_IP\"])"
   ],
   "outputs": [
    {
     "output_type": "stream",
     "name": "stdout",
     "text": [
      "SPARK_LOCAL_IP: 127.0.0.1\n"
     ]
    }
   ],
   "metadata": {}
  },
  {
   "cell_type": "code",
   "execution_count": 4,
   "source": [
    "# Iniciando uma SparkSession para utilização\n",
    "spark = (\n",
    "    SparkSession\n",
    "    .builder\n",
    "    .config(\"spark.serializer\", \"org.apache.spark.serializer.KryoSerializer\")\n",
    "    .getOrCreate()\n",
    ")"
   ],
   "outputs": [
    {
     "output_type": "stream",
     "name": "stderr",
     "text": [
      "21/09/12 16:34:52 WARN NativeCodeLoader: Unable to load native-hadoop library for your platform... using builtin-java classes where applicable\n",
      "Using Spark's default log4j profile: org/apache/spark/log4j-defaults.properties\n",
      "Setting default log level to \"WARN\".\n",
      "To adjust logging level use sc.setLogLevel(newLevel). For SparkR, use setLogLevel(newLevel).\n"
     ]
    }
   ],
   "metadata": {}
  },
  {
   "cell_type": "code",
   "execution_count": 14,
   "source": [
    "# Lendo o arquivo 'title_basics' no formato tsv e convertendo para parquet.\n",
    "# Verifique se o arquivo está com \".\" (ponto) ou \"_\" (underline) no nome e corrija o path.\n",
    "(\n",
    "    spark.read.format(\"csv\").load('../data/tsv/title_basics.tsv', header=True, sep = '\\t')\n",
    "    .write.format('parquet').save('../data/imdb/title_basics', mode='overwrite')\n",
    ")\n"
   ],
   "outputs": [
    {
     "output_type": "stream",
     "name": "stderr",
     "text": []
    }
   ],
   "metadata": {}
  },
  {
   "cell_type": "code",
   "execution_count": 16,
   "source": [
    "# Lendo o arquivo 'title_ratings' no formato tsv e convertendo para parquet.\n",
    "# Verifique se o arquivo está com \".\" (ponto) ou \"_\" (underline) no nome e corrija o path.\n",
    "\n",
    "(\n",
    "    spark.read.format(\"csv\").load('../data/tsv/title_ratings.tsv', header=True, sep = '\\t')\n",
    "    .write.format('parquet').save('../data/imdb/title_ratings', mode='overwrite')\n",
    ")"
   ],
   "outputs": [
    {
     "output_type": "stream",
     "name": "stderr",
     "text": []
    }
   ],
   "metadata": {}
  },
  {
   "cell_type": "code",
   "execution_count": 18,
   "source": [
    "# Carregando os dataframes\n",
    "df_titles = spark.read.format(\"parquet\").load('../data/imdb/title_basics')\n",
    "df_ratings = spark.read.format(\"parquet\").load('../data/imdb/title_ratings')"
   ],
   "outputs": [],
   "metadata": {}
  },
  {
   "cell_type": "code",
   "execution_count": 23,
   "source": [
    "df_titles.limit(5).toPandas()"
   ],
   "outputs": [
    {
     "output_type": "execute_result",
     "data": {
      "text/html": [
       "<div>\n",
       "<style scoped>\n",
       "    .dataframe tbody tr th:only-of-type {\n",
       "        vertical-align: middle;\n",
       "    }\n",
       "\n",
       "    .dataframe tbody tr th {\n",
       "        vertical-align: top;\n",
       "    }\n",
       "\n",
       "    .dataframe thead th {\n",
       "        text-align: right;\n",
       "    }\n",
       "</style>\n",
       "<table border=\"1\" class=\"dataframe\">\n",
       "  <thead>\n",
       "    <tr style=\"text-align: right;\">\n",
       "      <th></th>\n",
       "      <th>tconst</th>\n",
       "      <th>titleType</th>\n",
       "      <th>primaryTitle</th>\n",
       "      <th>originalTitle</th>\n",
       "      <th>isAdult</th>\n",
       "      <th>startYear</th>\n",
       "      <th>endYear</th>\n",
       "      <th>runtimeMinutes</th>\n",
       "      <th>genres</th>\n",
       "    </tr>\n",
       "  </thead>\n",
       "  <tbody>\n",
       "    <tr>\n",
       "      <th>0</th>\n",
       "      <td>tt0000001</td>\n",
       "      <td>short</td>\n",
       "      <td>Carmencita</td>\n",
       "      <td>Carmencita</td>\n",
       "      <td>0</td>\n",
       "      <td>1894</td>\n",
       "      <td>\\N</td>\n",
       "      <td>1</td>\n",
       "      <td>Documentary,Short</td>\n",
       "    </tr>\n",
       "    <tr>\n",
       "      <th>1</th>\n",
       "      <td>tt0000002</td>\n",
       "      <td>short</td>\n",
       "      <td>Le clown et ses chiens</td>\n",
       "      <td>Le clown et ses chiens</td>\n",
       "      <td>0</td>\n",
       "      <td>1892</td>\n",
       "      <td>\\N</td>\n",
       "      <td>5</td>\n",
       "      <td>Animation,Short</td>\n",
       "    </tr>\n",
       "    <tr>\n",
       "      <th>2</th>\n",
       "      <td>tt0000003</td>\n",
       "      <td>short</td>\n",
       "      <td>Pauvre Pierrot</td>\n",
       "      <td>Pauvre Pierrot</td>\n",
       "      <td>0</td>\n",
       "      <td>1892</td>\n",
       "      <td>\\N</td>\n",
       "      <td>4</td>\n",
       "      <td>Animation,Comedy,Romance</td>\n",
       "    </tr>\n",
       "    <tr>\n",
       "      <th>3</th>\n",
       "      <td>tt0000004</td>\n",
       "      <td>short</td>\n",
       "      <td>Un bon bock</td>\n",
       "      <td>Un bon bock</td>\n",
       "      <td>0</td>\n",
       "      <td>1892</td>\n",
       "      <td>\\N</td>\n",
       "      <td>12</td>\n",
       "      <td>Animation,Short</td>\n",
       "    </tr>\n",
       "    <tr>\n",
       "      <th>4</th>\n",
       "      <td>tt0000005</td>\n",
       "      <td>short</td>\n",
       "      <td>Blacksmith Scene</td>\n",
       "      <td>Blacksmith Scene</td>\n",
       "      <td>0</td>\n",
       "      <td>1893</td>\n",
       "      <td>\\N</td>\n",
       "      <td>1</td>\n",
       "      <td>Comedy,Short</td>\n",
       "    </tr>\n",
       "  </tbody>\n",
       "</table>\n",
       "</div>"
      ],
      "text/plain": [
       "      tconst titleType            primaryTitle           originalTitle  \\\n",
       "0  tt0000001     short              Carmencita              Carmencita   \n",
       "1  tt0000002     short  Le clown et ses chiens  Le clown et ses chiens   \n",
       "2  tt0000003     short          Pauvre Pierrot          Pauvre Pierrot   \n",
       "3  tt0000004     short             Un bon bock             Un bon bock   \n",
       "4  tt0000005     short        Blacksmith Scene        Blacksmith Scene   \n",
       "\n",
       "  isAdult startYear endYear runtimeMinutes                    genres  \n",
       "0       0      1894      \\N              1         Documentary,Short  \n",
       "1       0      1892      \\N              5           Animation,Short  \n",
       "2       0      1892      \\N              4  Animation,Comedy,Romance  \n",
       "3       0      1892      \\N             12           Animation,Short  \n",
       "4       0      1893      \\N              1              Comedy,Short  "
      ]
     },
     "metadata": {},
     "execution_count": 23
    }
   ],
   "metadata": {}
  },
  {
   "cell_type": "markdown",
   "source": [
    "## Leitura e Escrita de Dados"
   ],
   "metadata": {}
  },
  {
   "cell_type": "markdown",
   "source": [
    "### DataFrameReader"
   ],
   "metadata": {}
  },
  {
   "cell_type": "markdown",
   "source": [
    "```\n",
    "spark.read.format(format).option(args).load(file/path)\n",
    "```"
   ],
   "metadata": {}
  },
  {
   "cell_type": "markdown",
   "source": [
    "### DataFrameWriter"
   ],
   "metadata": {}
  },
  {
   "cell_type": "markdown",
   "source": [
    "```\n",
    "df.write.format(format).option(args).save(file/path)\n",
    "```"
   ],
   "metadata": {}
  },
  {
   "cell_type": "markdown",
   "source": [
    "### Lendo e Escrevendo CSV"
   ],
   "metadata": {}
  },
  {
   "cell_type": "markdown",
   "source": [
    "Opções mais comuns:\n",
    "* header\n",
    "* inferSchema\n",
    "* sep\n",
    "* encoding"
   ],
   "metadata": {
    "id": "zNBPgd8iG3yn"
   }
  },
  {
   "cell_type": "code",
   "execution_count": 14,
   "source": [
    "# file_path = 'data/df_cnae.csv'\n",
    "# df = spark.read.format('csv').load(file_path)"
   ],
   "outputs": [],
   "metadata": {}
  },
  {
   "cell_type": "code",
   "execution_count": 25,
   "source": [
    "# df.limit(15).limit(15).toPandas()\n",
    "\n",
    "df_titles.limit(15).limit(15).toPandas()"
   ],
   "outputs": [
    {
     "output_type": "execute_result",
     "data": {
      "text/html": [
       "<div>\n",
       "<style scoped>\n",
       "    .dataframe tbody tr th:only-of-type {\n",
       "        vertical-align: middle;\n",
       "    }\n",
       "\n",
       "    .dataframe tbody tr th {\n",
       "        vertical-align: top;\n",
       "    }\n",
       "\n",
       "    .dataframe thead th {\n",
       "        text-align: right;\n",
       "    }\n",
       "</style>\n",
       "<table border=\"1\" class=\"dataframe\">\n",
       "  <thead>\n",
       "    <tr style=\"text-align: right;\">\n",
       "      <th></th>\n",
       "      <th>tconst</th>\n",
       "      <th>titleType</th>\n",
       "      <th>primaryTitle</th>\n",
       "      <th>originalTitle</th>\n",
       "      <th>isAdult</th>\n",
       "      <th>startYear</th>\n",
       "      <th>endYear</th>\n",
       "      <th>runtimeMinutes</th>\n",
       "      <th>genres</th>\n",
       "    </tr>\n",
       "  </thead>\n",
       "  <tbody>\n",
       "    <tr>\n",
       "      <th>0</th>\n",
       "      <td>tt0000001</td>\n",
       "      <td>short</td>\n",
       "      <td>Carmencita</td>\n",
       "      <td>Carmencita</td>\n",
       "      <td>0</td>\n",
       "      <td>1894</td>\n",
       "      <td>\\N</td>\n",
       "      <td>1</td>\n",
       "      <td>Documentary,Short</td>\n",
       "    </tr>\n",
       "    <tr>\n",
       "      <th>1</th>\n",
       "      <td>tt0000002</td>\n",
       "      <td>short</td>\n",
       "      <td>Le clown et ses chiens</td>\n",
       "      <td>Le clown et ses chiens</td>\n",
       "      <td>0</td>\n",
       "      <td>1892</td>\n",
       "      <td>\\N</td>\n",
       "      <td>5</td>\n",
       "      <td>Animation,Short</td>\n",
       "    </tr>\n",
       "    <tr>\n",
       "      <th>2</th>\n",
       "      <td>tt0000003</td>\n",
       "      <td>short</td>\n",
       "      <td>Pauvre Pierrot</td>\n",
       "      <td>Pauvre Pierrot</td>\n",
       "      <td>0</td>\n",
       "      <td>1892</td>\n",
       "      <td>\\N</td>\n",
       "      <td>4</td>\n",
       "      <td>Animation,Comedy,Romance</td>\n",
       "    </tr>\n",
       "    <tr>\n",
       "      <th>3</th>\n",
       "      <td>tt0000004</td>\n",
       "      <td>short</td>\n",
       "      <td>Un bon bock</td>\n",
       "      <td>Un bon bock</td>\n",
       "      <td>0</td>\n",
       "      <td>1892</td>\n",
       "      <td>\\N</td>\n",
       "      <td>12</td>\n",
       "      <td>Animation,Short</td>\n",
       "    </tr>\n",
       "    <tr>\n",
       "      <th>4</th>\n",
       "      <td>tt0000005</td>\n",
       "      <td>short</td>\n",
       "      <td>Blacksmith Scene</td>\n",
       "      <td>Blacksmith Scene</td>\n",
       "      <td>0</td>\n",
       "      <td>1893</td>\n",
       "      <td>\\N</td>\n",
       "      <td>1</td>\n",
       "      <td>Comedy,Short</td>\n",
       "    </tr>\n",
       "    <tr>\n",
       "      <th>5</th>\n",
       "      <td>tt0000006</td>\n",
       "      <td>short</td>\n",
       "      <td>Chinese Opium Den</td>\n",
       "      <td>Chinese Opium Den</td>\n",
       "      <td>0</td>\n",
       "      <td>1894</td>\n",
       "      <td>\\N</td>\n",
       "      <td>1</td>\n",
       "      <td>Short</td>\n",
       "    </tr>\n",
       "    <tr>\n",
       "      <th>6</th>\n",
       "      <td>tt0000007</td>\n",
       "      <td>short</td>\n",
       "      <td>Corbett and Courtney Before the Kinetograph</td>\n",
       "      <td>Corbett and Courtney Before the Kinetograph</td>\n",
       "      <td>0</td>\n",
       "      <td>1894</td>\n",
       "      <td>\\N</td>\n",
       "      <td>1</td>\n",
       "      <td>Short,Sport</td>\n",
       "    </tr>\n",
       "    <tr>\n",
       "      <th>7</th>\n",
       "      <td>tt0000008</td>\n",
       "      <td>short</td>\n",
       "      <td>Edison Kinetoscopic Record of a Sneeze</td>\n",
       "      <td>Edison Kinetoscopic Record of a Sneeze</td>\n",
       "      <td>0</td>\n",
       "      <td>1894</td>\n",
       "      <td>\\N</td>\n",
       "      <td>1</td>\n",
       "      <td>Documentary,Short</td>\n",
       "    </tr>\n",
       "    <tr>\n",
       "      <th>8</th>\n",
       "      <td>tt0000009</td>\n",
       "      <td>short</td>\n",
       "      <td>Miss Jerry</td>\n",
       "      <td>Miss Jerry</td>\n",
       "      <td>0</td>\n",
       "      <td>1894</td>\n",
       "      <td>\\N</td>\n",
       "      <td>40</td>\n",
       "      <td>Romance,Short</td>\n",
       "    </tr>\n",
       "    <tr>\n",
       "      <th>9</th>\n",
       "      <td>tt0000010</td>\n",
       "      <td>short</td>\n",
       "      <td>Leaving the Factory</td>\n",
       "      <td>La sortie de l'usine Lumière à Lyon</td>\n",
       "      <td>0</td>\n",
       "      <td>1895</td>\n",
       "      <td>\\N</td>\n",
       "      <td>1</td>\n",
       "      <td>Documentary,Short</td>\n",
       "    </tr>\n",
       "    <tr>\n",
       "      <th>10</th>\n",
       "      <td>tt0000011</td>\n",
       "      <td>short</td>\n",
       "      <td>Akrobatisches Potpourri</td>\n",
       "      <td>Akrobatisches Potpourri</td>\n",
       "      <td>0</td>\n",
       "      <td>1895</td>\n",
       "      <td>\\N</td>\n",
       "      <td>1</td>\n",
       "      <td>Documentary,Short</td>\n",
       "    </tr>\n",
       "    <tr>\n",
       "      <th>11</th>\n",
       "      <td>tt0000012</td>\n",
       "      <td>short</td>\n",
       "      <td>The Arrival of a Train</td>\n",
       "      <td>L'arrivée d'un train à La Ciotat</td>\n",
       "      <td>0</td>\n",
       "      <td>1896</td>\n",
       "      <td>\\N</td>\n",
       "      <td>1</td>\n",
       "      <td>Documentary,Short</td>\n",
       "    </tr>\n",
       "    <tr>\n",
       "      <th>12</th>\n",
       "      <td>tt0000013</td>\n",
       "      <td>short</td>\n",
       "      <td>The Photographical Congress Arrives in Lyon</td>\n",
       "      <td>Le débarquement du congrès de photographie à Lyon</td>\n",
       "      <td>0</td>\n",
       "      <td>1895</td>\n",
       "      <td>\\N</td>\n",
       "      <td>1</td>\n",
       "      <td>Documentary,Short</td>\n",
       "    </tr>\n",
       "    <tr>\n",
       "      <th>13</th>\n",
       "      <td>tt0000014</td>\n",
       "      <td>short</td>\n",
       "      <td>The Waterer Watered</td>\n",
       "      <td>L'arroseur arrosé</td>\n",
       "      <td>0</td>\n",
       "      <td>1895</td>\n",
       "      <td>\\N</td>\n",
       "      <td>1</td>\n",
       "      <td>Comedy,Short</td>\n",
       "    </tr>\n",
       "    <tr>\n",
       "      <th>14</th>\n",
       "      <td>tt0000015</td>\n",
       "      <td>short</td>\n",
       "      <td>Autour d'une cabine</td>\n",
       "      <td>Autour d'une cabine</td>\n",
       "      <td>0</td>\n",
       "      <td>1894</td>\n",
       "      <td>\\N</td>\n",
       "      <td>2</td>\n",
       "      <td>Animation,Short</td>\n",
       "    </tr>\n",
       "  </tbody>\n",
       "</table>\n",
       "</div>"
      ],
      "text/plain": [
       "       tconst titleType                                 primaryTitle  \\\n",
       "0   tt0000001     short                                   Carmencita   \n",
       "1   tt0000002     short                       Le clown et ses chiens   \n",
       "2   tt0000003     short                               Pauvre Pierrot   \n",
       "3   tt0000004     short                                  Un bon bock   \n",
       "4   tt0000005     short                             Blacksmith Scene   \n",
       "5   tt0000006     short                            Chinese Opium Den   \n",
       "6   tt0000007     short  Corbett and Courtney Before the Kinetograph   \n",
       "7   tt0000008     short       Edison Kinetoscopic Record of a Sneeze   \n",
       "8   tt0000009     short                                   Miss Jerry   \n",
       "9   tt0000010     short                          Leaving the Factory   \n",
       "10  tt0000011     short                      Akrobatisches Potpourri   \n",
       "11  tt0000012     short                       The Arrival of a Train   \n",
       "12  tt0000013     short  The Photographical Congress Arrives in Lyon   \n",
       "13  tt0000014     short                          The Waterer Watered   \n",
       "14  tt0000015     short                          Autour d'une cabine   \n",
       "\n",
       "                                        originalTitle isAdult startYear  \\\n",
       "0                                          Carmencita       0      1894   \n",
       "1                              Le clown et ses chiens       0      1892   \n",
       "2                                      Pauvre Pierrot       0      1892   \n",
       "3                                         Un bon bock       0      1892   \n",
       "4                                    Blacksmith Scene       0      1893   \n",
       "5                                   Chinese Opium Den       0      1894   \n",
       "6         Corbett and Courtney Before the Kinetograph       0      1894   \n",
       "7              Edison Kinetoscopic Record of a Sneeze       0      1894   \n",
       "8                                          Miss Jerry       0      1894   \n",
       "9                 La sortie de l'usine Lumière à Lyon       0      1895   \n",
       "10                            Akrobatisches Potpourri       0      1895   \n",
       "11                   L'arrivée d'un train à La Ciotat       0      1896   \n",
       "12  Le débarquement du congrès de photographie à Lyon       0      1895   \n",
       "13                                  L'arroseur arrosé       0      1895   \n",
       "14                                Autour d'une cabine       0      1894   \n",
       "\n",
       "   endYear runtimeMinutes                    genres  \n",
       "0       \\N              1         Documentary,Short  \n",
       "1       \\N              5           Animation,Short  \n",
       "2       \\N              4  Animation,Comedy,Romance  \n",
       "3       \\N             12           Animation,Short  \n",
       "4       \\N              1              Comedy,Short  \n",
       "5       \\N              1                     Short  \n",
       "6       \\N              1               Short,Sport  \n",
       "7       \\N              1         Documentary,Short  \n",
       "8       \\N             40             Romance,Short  \n",
       "9       \\N              1         Documentary,Short  \n",
       "10      \\N              1         Documentary,Short  \n",
       "11      \\N              1         Documentary,Short  \n",
       "12      \\N              1         Documentary,Short  \n",
       "13      \\N              1              Comedy,Short  \n",
       "14      \\N              2           Animation,Short  "
      ]
     },
     "metadata": {},
     "execution_count": 25
    }
   ],
   "metadata": {
    "id": "-iYt9lyVD2LF"
   }
  },
  {
   "cell_type": "markdown",
   "source": [
    "### Corrigindo"
   ],
   "metadata": {}
  },
  {
   "cell_type": "code",
   "execution_count": 20,
   "source": [
    "schema = 'cod_cnae STRING, descricao_cnae STRING'"
   ],
   "outputs": [],
   "metadata": {}
  },
  {
   "cell_type": "code",
   "execution_count": 22,
   "source": [
    "df = spark.read.format('csv').load(file_path, sep=';', encoding='ISO-8859-1', schema=schema)\n",
    "df.limit(5).toPandas()"
   ],
   "outputs": [
    {
     "output_type": "execute_result",
     "data": {
      "text/html": [
       "<div>\n",
       "<style scoped>\n",
       "    .dataframe tbody tr th:only-of-type {\n",
       "        vertical-align: middle;\n",
       "    }\n",
       "\n",
       "    .dataframe tbody tr th {\n",
       "        vertical-align: top;\n",
       "    }\n",
       "\n",
       "    .dataframe thead th {\n",
       "        text-align: right;\n",
       "    }\n",
       "</style>\n",
       "<table border=\"1\" class=\"dataframe\">\n",
       "  <thead>\n",
       "    <tr style=\"text-align: right;\">\n",
       "      <th></th>\n",
       "      <th>cod_cnae</th>\n",
       "      <th>descricao_cnae</th>\n",
       "    </tr>\n",
       "  </thead>\n",
       "  <tbody>\n",
       "    <tr>\n",
       "      <th>0</th>\n",
       "      <td>0111301</td>\n",
       "      <td>Cultivo de arroz</td>\n",
       "    </tr>\n",
       "    <tr>\n",
       "      <th>1</th>\n",
       "      <td>0111302</td>\n",
       "      <td>Cultivo de milho</td>\n",
       "    </tr>\n",
       "    <tr>\n",
       "      <th>2</th>\n",
       "      <td>0111303</td>\n",
       "      <td>Cultivo de trigo</td>\n",
       "    </tr>\n",
       "    <tr>\n",
       "      <th>3</th>\n",
       "      <td>0111399</td>\n",
       "      <td>Cultivo de outros cereais não especificados an...</td>\n",
       "    </tr>\n",
       "    <tr>\n",
       "      <th>4</th>\n",
       "      <td>0112101</td>\n",
       "      <td>Cultivo de algodão herbáceo</td>\n",
       "    </tr>\n",
       "  </tbody>\n",
       "</table>\n",
       "</div>"
      ],
      "text/plain": [
       "  cod_cnae                                     descricao_cnae\n",
       "0  0111301                                   Cultivo de arroz\n",
       "1  0111302                                   Cultivo de milho\n",
       "2  0111303                                   Cultivo de trigo\n",
       "3  0111399  Cultivo de outros cereais não especificados an...\n",
       "4  0112101                        Cultivo de algodão herbáceo"
      ]
     },
     "metadata": {},
     "execution_count": 22
    }
   ],
   "metadata": {
    "id": "Fx7ulTa3hyVj"
   }
  },
  {
   "cell_type": "code",
   "execution_count": null,
   "source": [
    "df.printSchema()"
   ],
   "outputs": [],
   "metadata": {}
  },
  {
   "cell_type": "markdown",
   "source": [
    "### Lendo e Escrevendo Parquet"
   ],
   "metadata": {}
  },
  {
   "cell_type": "markdown",
   "source": [
    "* Armazenamento colunar, em contraste com o CSV, que armazena baseado nas linhas. Assim, quando uma query é realizada é possível ignorar os dados não relevantes de maneira rápida e fácil, resultando em operações bem mais eficientes;\n",
    "* Preservação de metadados, incluindo os tipos das colunas, o que garante eficiência e praticidade na escrita e leitura (não é necessário especificar schemas para arquivos parquet);\n",
    "* Suporte a dados estruturados de forma aninhada, como listas;\n",
    "* Otimizado para processar dados particionados com volume na casa dos gigabytes para cada arquivo;\n",
    "* Compressão de dados na escrita, de forma a ocupar menos espaço;\n",
    "* Integração com ferramentas como AWS Athena, Amazon Redshift Spectrum, Google BigQuery e Google Dataproc."
   ],
   "metadata": {}
  },
  {
   "cell_type": "code",
   "execution_count": null,
   "source": [
    "df.write.format('parquet').save('data/df_cnae')"
   ],
   "outputs": [],
   "metadata": {}
  },
  {
   "cell_type": "code",
   "execution_count": null,
   "source": [
    "df = spark.read.format('parquet').load('data/df_cnae')"
   ],
   "outputs": [],
   "metadata": {}
  },
  {
   "cell_type": "markdown",
   "source": [
    "# Manipulação dos Dados"
   ],
   "metadata": {
    "id": "OVHbwVw3qDXs"
   }
  },
  {
   "cell_type": "code",
   "execution_count": 26,
   "source": [
    "df_titles.limit(5).toPandas()"
   ],
   "outputs": [
    {
     "output_type": "execute_result",
     "data": {
      "text/html": [
       "<div>\n",
       "<style scoped>\n",
       "    .dataframe tbody tr th:only-of-type {\n",
       "        vertical-align: middle;\n",
       "    }\n",
       "\n",
       "    .dataframe tbody tr th {\n",
       "        vertical-align: top;\n",
       "    }\n",
       "\n",
       "    .dataframe thead th {\n",
       "        text-align: right;\n",
       "    }\n",
       "</style>\n",
       "<table border=\"1\" class=\"dataframe\">\n",
       "  <thead>\n",
       "    <tr style=\"text-align: right;\">\n",
       "      <th></th>\n",
       "      <th>tconst</th>\n",
       "      <th>titleType</th>\n",
       "      <th>primaryTitle</th>\n",
       "      <th>originalTitle</th>\n",
       "      <th>isAdult</th>\n",
       "      <th>startYear</th>\n",
       "      <th>endYear</th>\n",
       "      <th>runtimeMinutes</th>\n",
       "      <th>genres</th>\n",
       "    </tr>\n",
       "  </thead>\n",
       "  <tbody>\n",
       "    <tr>\n",
       "      <th>0</th>\n",
       "      <td>tt0000001</td>\n",
       "      <td>short</td>\n",
       "      <td>Carmencita</td>\n",
       "      <td>Carmencita</td>\n",
       "      <td>0</td>\n",
       "      <td>1894</td>\n",
       "      <td>\\N</td>\n",
       "      <td>1</td>\n",
       "      <td>Documentary,Short</td>\n",
       "    </tr>\n",
       "    <tr>\n",
       "      <th>1</th>\n",
       "      <td>tt0000002</td>\n",
       "      <td>short</td>\n",
       "      <td>Le clown et ses chiens</td>\n",
       "      <td>Le clown et ses chiens</td>\n",
       "      <td>0</td>\n",
       "      <td>1892</td>\n",
       "      <td>\\N</td>\n",
       "      <td>5</td>\n",
       "      <td>Animation,Short</td>\n",
       "    </tr>\n",
       "    <tr>\n",
       "      <th>2</th>\n",
       "      <td>tt0000003</td>\n",
       "      <td>short</td>\n",
       "      <td>Pauvre Pierrot</td>\n",
       "      <td>Pauvre Pierrot</td>\n",
       "      <td>0</td>\n",
       "      <td>1892</td>\n",
       "      <td>\\N</td>\n",
       "      <td>4</td>\n",
       "      <td>Animation,Comedy,Romance</td>\n",
       "    </tr>\n",
       "    <tr>\n",
       "      <th>3</th>\n",
       "      <td>tt0000004</td>\n",
       "      <td>short</td>\n",
       "      <td>Un bon bock</td>\n",
       "      <td>Un bon bock</td>\n",
       "      <td>0</td>\n",
       "      <td>1892</td>\n",
       "      <td>\\N</td>\n",
       "      <td>12</td>\n",
       "      <td>Animation,Short</td>\n",
       "    </tr>\n",
       "    <tr>\n",
       "      <th>4</th>\n",
       "      <td>tt0000005</td>\n",
       "      <td>short</td>\n",
       "      <td>Blacksmith Scene</td>\n",
       "      <td>Blacksmith Scene</td>\n",
       "      <td>0</td>\n",
       "      <td>1893</td>\n",
       "      <td>\\N</td>\n",
       "      <td>1</td>\n",
       "      <td>Comedy,Short</td>\n",
       "    </tr>\n",
       "  </tbody>\n",
       "</table>\n",
       "</div>"
      ],
      "text/plain": [
       "      tconst titleType            primaryTitle           originalTitle  \\\n",
       "0  tt0000001     short              Carmencita              Carmencita   \n",
       "1  tt0000002     short  Le clown et ses chiens  Le clown et ses chiens   \n",
       "2  tt0000003     short          Pauvre Pierrot          Pauvre Pierrot   \n",
       "3  tt0000004     short             Un bon bock             Un bon bock   \n",
       "4  tt0000005     short        Blacksmith Scene        Blacksmith Scene   \n",
       "\n",
       "  isAdult startYear endYear runtimeMinutes                    genres  \n",
       "0       0      1894      \\N              1         Documentary,Short  \n",
       "1       0      1892      \\N              5           Animation,Short  \n",
       "2       0      1892      \\N              4  Animation,Comedy,Romance  \n",
       "3       0      1892      \\N             12           Animation,Short  \n",
       "4       0      1893      \\N              1              Comedy,Short  "
      ]
     },
     "metadata": {},
     "execution_count": 26
    }
   ],
   "metadata": {}
  },
  {
   "cell_type": "code",
   "execution_count": 27,
   "source": [
    "df_ratings.limit(5).toPandas()"
   ],
   "outputs": [
    {
     "output_type": "execute_result",
     "data": {
      "text/html": [
       "<div>\n",
       "<style scoped>\n",
       "    .dataframe tbody tr th:only-of-type {\n",
       "        vertical-align: middle;\n",
       "    }\n",
       "\n",
       "    .dataframe tbody tr th {\n",
       "        vertical-align: top;\n",
       "    }\n",
       "\n",
       "    .dataframe thead th {\n",
       "        text-align: right;\n",
       "    }\n",
       "</style>\n",
       "<table border=\"1\" class=\"dataframe\">\n",
       "  <thead>\n",
       "    <tr style=\"text-align: right;\">\n",
       "      <th></th>\n",
       "      <th>tconst</th>\n",
       "      <th>averageRating</th>\n",
       "      <th>numVotes</th>\n",
       "    </tr>\n",
       "  </thead>\n",
       "  <tbody>\n",
       "    <tr>\n",
       "      <th>0</th>\n",
       "      <td>tt0000001</td>\n",
       "      <td>5.7</td>\n",
       "      <td>1814</td>\n",
       "    </tr>\n",
       "    <tr>\n",
       "      <th>1</th>\n",
       "      <td>tt0000002</td>\n",
       "      <td>6.0</td>\n",
       "      <td>233</td>\n",
       "    </tr>\n",
       "    <tr>\n",
       "      <th>2</th>\n",
       "      <td>tt0000003</td>\n",
       "      <td>6.5</td>\n",
       "      <td>1571</td>\n",
       "    </tr>\n",
       "    <tr>\n",
       "      <th>3</th>\n",
       "      <td>tt0000004</td>\n",
       "      <td>6.1</td>\n",
       "      <td>151</td>\n",
       "    </tr>\n",
       "    <tr>\n",
       "      <th>4</th>\n",
       "      <td>tt0000005</td>\n",
       "      <td>6.2</td>\n",
       "      <td>2390</td>\n",
       "    </tr>\n",
       "  </tbody>\n",
       "</table>\n",
       "</div>"
      ],
      "text/plain": [
       "      tconst averageRating numVotes\n",
       "0  tt0000001           5.7     1814\n",
       "1  tt0000002           6.0      233\n",
       "2  tt0000003           6.5     1571\n",
       "3  tt0000004           6.1      151\n",
       "4  tt0000005           6.2     2390"
      ]
     },
     "metadata": {},
     "execution_count": 27
    }
   ],
   "metadata": {}
  },
  {
   "cell_type": "code",
   "execution_count": 28,
   "source": [
    "df_titles.printSchema()"
   ],
   "outputs": [
    {
     "output_type": "stream",
     "name": "stdout",
     "text": [
      "root\n",
      " |-- tconst: string (nullable = true)\n",
      " |-- titleType: string (nullable = true)\n",
      " |-- primaryTitle: string (nullable = true)\n",
      " |-- originalTitle: string (nullable = true)\n",
      " |-- isAdult: string (nullable = true)\n",
      " |-- startYear: string (nullable = true)\n",
      " |-- endYear: string (nullable = true)\n",
      " |-- runtimeMinutes: string (nullable = true)\n",
      " |-- genres: string (nullable = true)\n",
      "\n"
     ]
    }
   ],
   "metadata": {}
  },
  {
   "cell_type": "markdown",
   "source": [
    "### Colunas e Expressões"
   ],
   "metadata": {}
  },
  {
   "cell_type": "markdown",
   "source": [
    "As colunas são a principal unidade de manipulação de dados do Spark. "
   ],
   "metadata": {}
  },
  {
   "cell_type": "code",
   "execution_count": 8,
   "source": [
    "expression = \"\"\"\n",
    "\n",
    "CASE WHEN runTimeMinutes <= 60 THEN \"curto\"\n",
    "     WHEN runTimeMinutes BETWEEN 60 AND 120 THEN \"normal\"\n",
    "     ELSE \"longo\"\n",
    "END\n",
    "\n",
    "\"\"\""
   ],
   "outputs": [],
   "metadata": {}
  },
  {
   "cell_type": "code",
   "execution_count": 11,
   "source": [
    "(\n",
    "    df_titles\n",
    "    .select('tconst', 'primaryTitle', 'runtimeMinutes', )\n",
    "    .withColumn(\"runTimeMinutes\", f.col('runTimeMinutes').cast('int'))\n",
    "    .withColumn(\"runtimeHours\", f.round(f.col('runTimeMinutes') / 60, 3))\n",
    "    .withColumn(\"runtimeHours_2\", f.expr('round(runTimeMinutes  / 60, 3)'))\n",
    "    .withColumn(\"categoria_duracao\", f.when(f.col('runTimeMinutes') <= 60, 'curto')\n",
    "                                      .when((f.col('runTimeMinutes') > 60) & (f.col('runTimeMinutes') <= 120), 'normal')\n",
    "                                      .otherwise('longo'))\n",
    "    .withColumn('cat_duracao', f.expr(expression))\n",
    "    .limit(5)\n",
    "    .toPandas()\n",
    ")"
   ],
   "outputs": [
    {
     "output_type": "execute_result",
     "data": {
      "text/html": [
       "<div>\n",
       "<style scoped>\n",
       "    .dataframe tbody tr th:only-of-type {\n",
       "        vertical-align: middle;\n",
       "    }\n",
       "\n",
       "    .dataframe tbody tr th {\n",
       "        vertical-align: top;\n",
       "    }\n",
       "\n",
       "    .dataframe thead th {\n",
       "        text-align: right;\n",
       "    }\n",
       "</style>\n",
       "<table border=\"1\" class=\"dataframe\">\n",
       "  <thead>\n",
       "    <tr style=\"text-align: right;\">\n",
       "      <th></th>\n",
       "      <th>tconst</th>\n",
       "      <th>primaryTitle</th>\n",
       "      <th>runTimeMinutes</th>\n",
       "      <th>runtimeHours</th>\n",
       "      <th>runtimeHours_2</th>\n",
       "      <th>categoria_duracao</th>\n",
       "      <th>cat_duracao</th>\n",
       "    </tr>\n",
       "  </thead>\n",
       "  <tbody>\n",
       "    <tr>\n",
       "      <th>0</th>\n",
       "      <td>tt0000001</td>\n",
       "      <td>Carmencita</td>\n",
       "      <td>1</td>\n",
       "      <td>0.017</td>\n",
       "      <td>0.017</td>\n",
       "      <td>curto</td>\n",
       "      <td>curto</td>\n",
       "    </tr>\n",
       "    <tr>\n",
       "      <th>1</th>\n",
       "      <td>tt0000002</td>\n",
       "      <td>Le clown et ses chiens</td>\n",
       "      <td>5</td>\n",
       "      <td>0.083</td>\n",
       "      <td>0.083</td>\n",
       "      <td>curto</td>\n",
       "      <td>curto</td>\n",
       "    </tr>\n",
       "    <tr>\n",
       "      <th>2</th>\n",
       "      <td>tt0000003</td>\n",
       "      <td>Pauvre Pierrot</td>\n",
       "      <td>4</td>\n",
       "      <td>0.067</td>\n",
       "      <td>0.067</td>\n",
       "      <td>curto</td>\n",
       "      <td>curto</td>\n",
       "    </tr>\n",
       "    <tr>\n",
       "      <th>3</th>\n",
       "      <td>tt0000004</td>\n",
       "      <td>Un bon bock</td>\n",
       "      <td>12</td>\n",
       "      <td>0.200</td>\n",
       "      <td>0.200</td>\n",
       "      <td>curto</td>\n",
       "      <td>curto</td>\n",
       "    </tr>\n",
       "    <tr>\n",
       "      <th>4</th>\n",
       "      <td>tt0000005</td>\n",
       "      <td>Blacksmith Scene</td>\n",
       "      <td>1</td>\n",
       "      <td>0.017</td>\n",
       "      <td>0.017</td>\n",
       "      <td>curto</td>\n",
       "      <td>curto</td>\n",
       "    </tr>\n",
       "  </tbody>\n",
       "</table>\n",
       "</div>"
      ],
      "text/plain": [
       "      tconst            primaryTitle  runTimeMinutes  runtimeHours  \\\n",
       "0  tt0000001              Carmencita               1         0.017   \n",
       "1  tt0000002  Le clown et ses chiens               5         0.083   \n",
       "2  tt0000003          Pauvre Pierrot               4         0.067   \n",
       "3  tt0000004             Un bon bock              12         0.200   \n",
       "4  tt0000005        Blacksmith Scene               1         0.017   \n",
       "\n",
       "   runtimeHours_2 categoria_duracao cat_duracao  \n",
       "0           0.017             curto       curto  \n",
       "1           0.083             curto       curto  \n",
       "2           0.067             curto       curto  \n",
       "3           0.200             curto       curto  \n",
       "4           0.017             curto       curto  "
      ]
     },
     "metadata": {},
     "execution_count": 11
    }
   ],
   "metadata": {
    "id": "b1_37wRiyLNN",
    "scrolled": true
   }
  },
  {
   "cell_type": "markdown",
   "source": [
    "Forma \"pandas\" de selecionar:\n",
    "\n",
    "1. `df.coluna`\n",
    "2. `df['coluna']`"
   ],
   "metadata": {
    "id": "kjmnC-CsE5dn"
   }
  },
  {
   "cell_type": "code",
   "execution_count": null,
   "source": [
    "(\n",
    "    df_titles.select('tconst', 'primaryTitle', 'runtimeMinutes', )\n",
    "    .withColumn(\"runtimeHours\", df_titles['runtimeMinutes'].cast('int') / 60 )\n",
    "    .show(5)\n",
    ")"
   ],
   "outputs": [],
   "metadata": {
    "id": "b1_37wRiyLNN"
   }
  },
  {
   "cell_type": "code",
   "execution_count": null,
   "source": [
    "(\n",
    "    df_titles.select('tconst', 'primaryTitle', 'runtimeMinutes', )\n",
    "    .withColumn(\"runtimeHours\", df_titles['runtimeMinutes'].cast('int') / 60 )\n",
    "    .withColumn(\"hours_plus2\", df_titles['runtimeHours'] + 2 )\n",
    "    .show(5)\n",
    ")"
   ],
   "outputs": [],
   "metadata": {
    "id": "b1_37wRiyLNN"
   }
  },
  {
   "cell_type": "code",
   "execution_count": null,
   "source": [
    "(\n",
    "    df_titles.select('tconst', 'primaryTitle', 'runtimeMinutes', )\n",
    "    .withColumn(\"runtimeHours\", col('runTimeMinutes').cast('int') / 60 )\n",
    "    .withColumn(\"hours_plus2\", col('runtimeHours') + 2 )\n",
    "    .show(5)\n",
    ")"
   ],
   "outputs": [],
   "metadata": {
    "id": "Tc8Afpw51cDR"
   }
  },
  {
   "cell_type": "markdown",
   "source": [
    "### Seleção de Colunas"
   ],
   "metadata": {
    "id": "zj5bT_TFmwQy"
   }
  },
  {
   "cell_type": "code",
   "execution_count": 31,
   "source": [
    "df_titles.limit(5).toPandas()"
   ],
   "outputs": [
    {
     "output_type": "execute_result",
     "data": {
      "text/html": [
       "<div>\n",
       "<style scoped>\n",
       "    .dataframe tbody tr th:only-of-type {\n",
       "        vertical-align: middle;\n",
       "    }\n",
       "\n",
       "    .dataframe tbody tr th {\n",
       "        vertical-align: top;\n",
       "    }\n",
       "\n",
       "    .dataframe thead th {\n",
       "        text-align: right;\n",
       "    }\n",
       "</style>\n",
       "<table border=\"1\" class=\"dataframe\">\n",
       "  <thead>\n",
       "    <tr style=\"text-align: right;\">\n",
       "      <th></th>\n",
       "      <th>tconst</th>\n",
       "      <th>titleType</th>\n",
       "      <th>primaryTitle</th>\n",
       "      <th>originalTitle</th>\n",
       "      <th>isAdult</th>\n",
       "      <th>startYear</th>\n",
       "      <th>endYear</th>\n",
       "      <th>runtimeMinutes</th>\n",
       "      <th>genres</th>\n",
       "    </tr>\n",
       "  </thead>\n",
       "  <tbody>\n",
       "    <tr>\n",
       "      <th>0</th>\n",
       "      <td>tt0000001</td>\n",
       "      <td>short</td>\n",
       "      <td>Carmencita</td>\n",
       "      <td>Carmencita</td>\n",
       "      <td>0</td>\n",
       "      <td>1894</td>\n",
       "      <td>\\N</td>\n",
       "      <td>1</td>\n",
       "      <td>Documentary,Short</td>\n",
       "    </tr>\n",
       "    <tr>\n",
       "      <th>1</th>\n",
       "      <td>tt0000002</td>\n",
       "      <td>short</td>\n",
       "      <td>Le clown et ses chiens</td>\n",
       "      <td>Le clown et ses chiens</td>\n",
       "      <td>0</td>\n",
       "      <td>1892</td>\n",
       "      <td>\\N</td>\n",
       "      <td>5</td>\n",
       "      <td>Animation,Short</td>\n",
       "    </tr>\n",
       "    <tr>\n",
       "      <th>2</th>\n",
       "      <td>tt0000003</td>\n",
       "      <td>short</td>\n",
       "      <td>Pauvre Pierrot</td>\n",
       "      <td>Pauvre Pierrot</td>\n",
       "      <td>0</td>\n",
       "      <td>1892</td>\n",
       "      <td>\\N</td>\n",
       "      <td>4</td>\n",
       "      <td>Animation,Comedy,Romance</td>\n",
       "    </tr>\n",
       "    <tr>\n",
       "      <th>3</th>\n",
       "      <td>tt0000004</td>\n",
       "      <td>short</td>\n",
       "      <td>Un bon bock</td>\n",
       "      <td>Un bon bock</td>\n",
       "      <td>0</td>\n",
       "      <td>1892</td>\n",
       "      <td>\\N</td>\n",
       "      <td>12</td>\n",
       "      <td>Animation,Short</td>\n",
       "    </tr>\n",
       "    <tr>\n",
       "      <th>4</th>\n",
       "      <td>tt0000005</td>\n",
       "      <td>short</td>\n",
       "      <td>Blacksmith Scene</td>\n",
       "      <td>Blacksmith Scene</td>\n",
       "      <td>0</td>\n",
       "      <td>1893</td>\n",
       "      <td>\\N</td>\n",
       "      <td>1</td>\n",
       "      <td>Comedy,Short</td>\n",
       "    </tr>\n",
       "  </tbody>\n",
       "</table>\n",
       "</div>"
      ],
      "text/plain": [
       "      tconst titleType            primaryTitle           originalTitle  \\\n",
       "0  tt0000001     short              Carmencita              Carmencita   \n",
       "1  tt0000002     short  Le clown et ses chiens  Le clown et ses chiens   \n",
       "2  tt0000003     short          Pauvre Pierrot          Pauvre Pierrot   \n",
       "3  tt0000004     short             Un bon bock             Un bon bock   \n",
       "4  tt0000005     short        Blacksmith Scene        Blacksmith Scene   \n",
       "\n",
       "  isAdult startYear endYear runtimeMinutes                    genres  \n",
       "0       0      1894      \\N              1         Documentary,Short  \n",
       "1       0      1892      \\N              5           Animation,Short  \n",
       "2       0      1892      \\N              4  Animation,Comedy,Romance  \n",
       "3       0      1892      \\N             12           Animation,Short  \n",
       "4       0      1893      \\N              1              Comedy,Short  "
      ]
     },
     "metadata": {},
     "execution_count": 31
    }
   ],
   "metadata": {
    "scrolled": true
   }
  },
  {
   "cell_type": "code",
   "execution_count": 33,
   "source": [
    "df_titles.columns"
   ],
   "outputs": [
    {
     "output_type": "execute_result",
     "data": {
      "text/plain": [
       "['tconst',\n",
       " 'titleType',\n",
       " 'primaryTitle',\n",
       " 'originalTitle',\n",
       " 'isAdult',\n",
       " 'startYear',\n",
       " 'endYear',\n",
       " 'runtimeMinutes',\n",
       " 'genres']"
      ]
     },
     "metadata": {},
     "execution_count": 33
    }
   ],
   "metadata": {}
  },
  {
   "cell_type": "code",
   "execution_count": 32,
   "source": [
    "df_titles.select('tconst', 'primaryTitle', 'genres').limit(5).toPandas()"
   ],
   "outputs": [
    {
     "output_type": "execute_result",
     "data": {
      "text/html": [
       "<div>\n",
       "<style scoped>\n",
       "    .dataframe tbody tr th:only-of-type {\n",
       "        vertical-align: middle;\n",
       "    }\n",
       "\n",
       "    .dataframe tbody tr th {\n",
       "        vertical-align: top;\n",
       "    }\n",
       "\n",
       "    .dataframe thead th {\n",
       "        text-align: right;\n",
       "    }\n",
       "</style>\n",
       "<table border=\"1\" class=\"dataframe\">\n",
       "  <thead>\n",
       "    <tr style=\"text-align: right;\">\n",
       "      <th></th>\n",
       "      <th>tconst</th>\n",
       "      <th>primaryTitle</th>\n",
       "      <th>genres</th>\n",
       "    </tr>\n",
       "  </thead>\n",
       "  <tbody>\n",
       "    <tr>\n",
       "      <th>0</th>\n",
       "      <td>tt0000001</td>\n",
       "      <td>Carmencita</td>\n",
       "      <td>Documentary,Short</td>\n",
       "    </tr>\n",
       "    <tr>\n",
       "      <th>1</th>\n",
       "      <td>tt0000002</td>\n",
       "      <td>Le clown et ses chiens</td>\n",
       "      <td>Animation,Short</td>\n",
       "    </tr>\n",
       "    <tr>\n",
       "      <th>2</th>\n",
       "      <td>tt0000003</td>\n",
       "      <td>Pauvre Pierrot</td>\n",
       "      <td>Animation,Comedy,Romance</td>\n",
       "    </tr>\n",
       "    <tr>\n",
       "      <th>3</th>\n",
       "      <td>tt0000004</td>\n",
       "      <td>Un bon bock</td>\n",
       "      <td>Animation,Short</td>\n",
       "    </tr>\n",
       "    <tr>\n",
       "      <th>4</th>\n",
       "      <td>tt0000005</td>\n",
       "      <td>Blacksmith Scene</td>\n",
       "      <td>Comedy,Short</td>\n",
       "    </tr>\n",
       "  </tbody>\n",
       "</table>\n",
       "</div>"
      ],
      "text/plain": [
       "      tconst            primaryTitle                    genres\n",
       "0  tt0000001              Carmencita         Documentary,Short\n",
       "1  tt0000002  Le clown et ses chiens           Animation,Short\n",
       "2  tt0000003          Pauvre Pierrot  Animation,Comedy,Romance\n",
       "3  tt0000004             Un bon bock           Animation,Short\n",
       "4  tt0000005        Blacksmith Scene              Comedy,Short"
      ]
     },
     "metadata": {},
     "execution_count": 32
    }
   ],
   "metadata": {
    "id": "weKxO-bzp_ss",
    "scrolled": true
   }
  },
  {
   "cell_type": "code",
   "execution_count": 34,
   "source": [
    "cols = ['tconst', 'primaryTitle', 'genres']\n",
    "df_titles.select(cols).limit(5).toPandas()"
   ],
   "outputs": [
    {
     "output_type": "execute_result",
     "data": {
      "text/html": [
       "<div>\n",
       "<style scoped>\n",
       "    .dataframe tbody tr th:only-of-type {\n",
       "        vertical-align: middle;\n",
       "    }\n",
       "\n",
       "    .dataframe tbody tr th {\n",
       "        vertical-align: top;\n",
       "    }\n",
       "\n",
       "    .dataframe thead th {\n",
       "        text-align: right;\n",
       "    }\n",
       "</style>\n",
       "<table border=\"1\" class=\"dataframe\">\n",
       "  <thead>\n",
       "    <tr style=\"text-align: right;\">\n",
       "      <th></th>\n",
       "      <th>tconst</th>\n",
       "      <th>primaryTitle</th>\n",
       "      <th>genres</th>\n",
       "    </tr>\n",
       "  </thead>\n",
       "  <tbody>\n",
       "    <tr>\n",
       "      <th>0</th>\n",
       "      <td>tt0000001</td>\n",
       "      <td>Carmencita</td>\n",
       "      <td>Documentary,Short</td>\n",
       "    </tr>\n",
       "    <tr>\n",
       "      <th>1</th>\n",
       "      <td>tt0000002</td>\n",
       "      <td>Le clown et ses chiens</td>\n",
       "      <td>Animation,Short</td>\n",
       "    </tr>\n",
       "    <tr>\n",
       "      <th>2</th>\n",
       "      <td>tt0000003</td>\n",
       "      <td>Pauvre Pierrot</td>\n",
       "      <td>Animation,Comedy,Romance</td>\n",
       "    </tr>\n",
       "    <tr>\n",
       "      <th>3</th>\n",
       "      <td>tt0000004</td>\n",
       "      <td>Un bon bock</td>\n",
       "      <td>Animation,Short</td>\n",
       "    </tr>\n",
       "    <tr>\n",
       "      <th>4</th>\n",
       "      <td>tt0000005</td>\n",
       "      <td>Blacksmith Scene</td>\n",
       "      <td>Comedy,Short</td>\n",
       "    </tr>\n",
       "  </tbody>\n",
       "</table>\n",
       "</div>"
      ],
      "text/plain": [
       "      tconst            primaryTitle                    genres\n",
       "0  tt0000001              Carmencita         Documentary,Short\n",
       "1  tt0000002  Le clown et ses chiens           Animation,Short\n",
       "2  tt0000003          Pauvre Pierrot  Animation,Comedy,Romance\n",
       "3  tt0000004             Un bon bock           Animation,Short\n",
       "4  tt0000005        Blacksmith Scene              Comedy,Short"
      ]
     },
     "metadata": {},
     "execution_count": 34
    }
   ],
   "metadata": {
    "id": "kMkyVG1Enfp6"
   }
  },
  {
   "cell_type": "code",
   "execution_count": 35,
   "source": [
    "cols = ['primaryTitle', 'genres']\n",
    "df_titles.select('tconst', *cols).limit(5).toPandas()"
   ],
   "outputs": [
    {
     "output_type": "execute_result",
     "data": {
      "text/html": [
       "<div>\n",
       "<style scoped>\n",
       "    .dataframe tbody tr th:only-of-type {\n",
       "        vertical-align: middle;\n",
       "    }\n",
       "\n",
       "    .dataframe tbody tr th {\n",
       "        vertical-align: top;\n",
       "    }\n",
       "\n",
       "    .dataframe thead th {\n",
       "        text-align: right;\n",
       "    }\n",
       "</style>\n",
       "<table border=\"1\" class=\"dataframe\">\n",
       "  <thead>\n",
       "    <tr style=\"text-align: right;\">\n",
       "      <th></th>\n",
       "      <th>tconst</th>\n",
       "      <th>primaryTitle</th>\n",
       "      <th>genres</th>\n",
       "    </tr>\n",
       "  </thead>\n",
       "  <tbody>\n",
       "    <tr>\n",
       "      <th>0</th>\n",
       "      <td>tt0000001</td>\n",
       "      <td>Carmencita</td>\n",
       "      <td>Documentary,Short</td>\n",
       "    </tr>\n",
       "    <tr>\n",
       "      <th>1</th>\n",
       "      <td>tt0000002</td>\n",
       "      <td>Le clown et ses chiens</td>\n",
       "      <td>Animation,Short</td>\n",
       "    </tr>\n",
       "    <tr>\n",
       "      <th>2</th>\n",
       "      <td>tt0000003</td>\n",
       "      <td>Pauvre Pierrot</td>\n",
       "      <td>Animation,Comedy,Romance</td>\n",
       "    </tr>\n",
       "    <tr>\n",
       "      <th>3</th>\n",
       "      <td>tt0000004</td>\n",
       "      <td>Un bon bock</td>\n",
       "      <td>Animation,Short</td>\n",
       "    </tr>\n",
       "    <tr>\n",
       "      <th>4</th>\n",
       "      <td>tt0000005</td>\n",
       "      <td>Blacksmith Scene</td>\n",
       "      <td>Comedy,Short</td>\n",
       "    </tr>\n",
       "  </tbody>\n",
       "</table>\n",
       "</div>"
      ],
      "text/plain": [
       "      tconst            primaryTitle                    genres\n",
       "0  tt0000001              Carmencita         Documentary,Short\n",
       "1  tt0000002  Le clown et ses chiens           Animation,Short\n",
       "2  tt0000003          Pauvre Pierrot  Animation,Comedy,Romance\n",
       "3  tt0000004             Un bon bock           Animation,Short\n",
       "4  tt0000005        Blacksmith Scene              Comedy,Short"
      ]
     },
     "metadata": {},
     "execution_count": 35
    }
   ],
   "metadata": {
    "id": "z9BbhKdPnlrt"
   }
  },
  {
   "cell_type": "code",
   "execution_count": 39,
   "source": [
    "df_titles.select((f.col('runtimeMinutes') / 60).alias('runtimeHours') , '*').limit(5).toPandas()"
   ],
   "outputs": [
    {
     "output_type": "execute_result",
     "data": {
      "text/html": [
       "<div>\n",
       "<style scoped>\n",
       "    .dataframe tbody tr th:only-of-type {\n",
       "        vertical-align: middle;\n",
       "    }\n",
       "\n",
       "    .dataframe tbody tr th {\n",
       "        vertical-align: top;\n",
       "    }\n",
       "\n",
       "    .dataframe thead th {\n",
       "        text-align: right;\n",
       "    }\n",
       "</style>\n",
       "<table border=\"1\" class=\"dataframe\">\n",
       "  <thead>\n",
       "    <tr style=\"text-align: right;\">\n",
       "      <th></th>\n",
       "      <th>runtimeHours</th>\n",
       "      <th>tconst</th>\n",
       "      <th>titleType</th>\n",
       "      <th>primaryTitle</th>\n",
       "      <th>originalTitle</th>\n",
       "      <th>isAdult</th>\n",
       "      <th>startYear</th>\n",
       "      <th>endYear</th>\n",
       "      <th>runtimeMinutes</th>\n",
       "      <th>genres</th>\n",
       "    </tr>\n",
       "  </thead>\n",
       "  <tbody>\n",
       "    <tr>\n",
       "      <th>0</th>\n",
       "      <td>0.016667</td>\n",
       "      <td>tt0000001</td>\n",
       "      <td>short</td>\n",
       "      <td>Carmencita</td>\n",
       "      <td>Carmencita</td>\n",
       "      <td>0</td>\n",
       "      <td>1894</td>\n",
       "      <td>\\N</td>\n",
       "      <td>1</td>\n",
       "      <td>Documentary,Short</td>\n",
       "    </tr>\n",
       "    <tr>\n",
       "      <th>1</th>\n",
       "      <td>0.083333</td>\n",
       "      <td>tt0000002</td>\n",
       "      <td>short</td>\n",
       "      <td>Le clown et ses chiens</td>\n",
       "      <td>Le clown et ses chiens</td>\n",
       "      <td>0</td>\n",
       "      <td>1892</td>\n",
       "      <td>\\N</td>\n",
       "      <td>5</td>\n",
       "      <td>Animation,Short</td>\n",
       "    </tr>\n",
       "    <tr>\n",
       "      <th>2</th>\n",
       "      <td>0.066667</td>\n",
       "      <td>tt0000003</td>\n",
       "      <td>short</td>\n",
       "      <td>Pauvre Pierrot</td>\n",
       "      <td>Pauvre Pierrot</td>\n",
       "      <td>0</td>\n",
       "      <td>1892</td>\n",
       "      <td>\\N</td>\n",
       "      <td>4</td>\n",
       "      <td>Animation,Comedy,Romance</td>\n",
       "    </tr>\n",
       "    <tr>\n",
       "      <th>3</th>\n",
       "      <td>0.200000</td>\n",
       "      <td>tt0000004</td>\n",
       "      <td>short</td>\n",
       "      <td>Un bon bock</td>\n",
       "      <td>Un bon bock</td>\n",
       "      <td>0</td>\n",
       "      <td>1892</td>\n",
       "      <td>\\N</td>\n",
       "      <td>12</td>\n",
       "      <td>Animation,Short</td>\n",
       "    </tr>\n",
       "    <tr>\n",
       "      <th>4</th>\n",
       "      <td>0.016667</td>\n",
       "      <td>tt0000005</td>\n",
       "      <td>short</td>\n",
       "      <td>Blacksmith Scene</td>\n",
       "      <td>Blacksmith Scene</td>\n",
       "      <td>0</td>\n",
       "      <td>1893</td>\n",
       "      <td>\\N</td>\n",
       "      <td>1</td>\n",
       "      <td>Comedy,Short</td>\n",
       "    </tr>\n",
       "  </tbody>\n",
       "</table>\n",
       "</div>"
      ],
      "text/plain": [
       "   runtimeHours     tconst titleType            primaryTitle  \\\n",
       "0      0.016667  tt0000001     short              Carmencita   \n",
       "1      0.083333  tt0000002     short  Le clown et ses chiens   \n",
       "2      0.066667  tt0000003     short          Pauvre Pierrot   \n",
       "3      0.200000  tt0000004     short             Un bon bock   \n",
       "4      0.016667  tt0000005     short        Blacksmith Scene   \n",
       "\n",
       "            originalTitle isAdult startYear endYear runtimeMinutes  \\\n",
       "0              Carmencita       0      1894      \\N              1   \n",
       "1  Le clown et ses chiens       0      1892      \\N              5   \n",
       "2          Pauvre Pierrot       0      1892      \\N              4   \n",
       "3             Un bon bock       0      1892      \\N             12   \n",
       "4        Blacksmith Scene       0      1893      \\N              1   \n",
       "\n",
       "                     genres  \n",
       "0         Documentary,Short  \n",
       "1           Animation,Short  \n",
       "2  Animation,Comedy,Romance  \n",
       "3           Animation,Short  \n",
       "4              Comedy,Short  "
      ]
     },
     "metadata": {},
     "execution_count": 39
    }
   ],
   "metadata": {
    "id": "z9BbhKdPnlrt"
   }
  },
  {
   "cell_type": "markdown",
   "source": [
    "Observações:\n",
    "* Podemos realizar operações sobre colunas selecionadas. \n",
    "* A ordem em que as colunas são selecionadas é a ordem em que elas vão ser inseridas no DataFrame resultante."
   ],
   "metadata": {
    "id": "JErw3YdRn-bu"
   }
  },
  {
   "cell_type": "code",
   "execution_count": 43,
   "source": [
    "df_titles.select('tconst', 'genres', 'primaryTitle', f.upper('primaryTitle').alias('primaryTitle')).limit(5).toPandas()"
   ],
   "outputs": [
    {
     "output_type": "execute_result",
     "data": {
      "text/html": [
       "<div>\n",
       "<style scoped>\n",
       "    .dataframe tbody tr th:only-of-type {\n",
       "        vertical-align: middle;\n",
       "    }\n",
       "\n",
       "    .dataframe tbody tr th {\n",
       "        vertical-align: top;\n",
       "    }\n",
       "\n",
       "    .dataframe thead th {\n",
       "        text-align: right;\n",
       "    }\n",
       "</style>\n",
       "<table border=\"1\" class=\"dataframe\">\n",
       "  <thead>\n",
       "    <tr style=\"text-align: right;\">\n",
       "      <th></th>\n",
       "      <th>tconst</th>\n",
       "      <th>genres</th>\n",
       "      <th>primaryTitle</th>\n",
       "      <th>primaryTitle</th>\n",
       "    </tr>\n",
       "  </thead>\n",
       "  <tbody>\n",
       "    <tr>\n",
       "      <th>0</th>\n",
       "      <td>tt0000001</td>\n",
       "      <td>Documentary,Short</td>\n",
       "      <td>Carmencita</td>\n",
       "      <td>CARMENCITA</td>\n",
       "    </tr>\n",
       "    <tr>\n",
       "      <th>1</th>\n",
       "      <td>tt0000002</td>\n",
       "      <td>Animation,Short</td>\n",
       "      <td>Le clown et ses chiens</td>\n",
       "      <td>LE CLOWN ET SES CHIENS</td>\n",
       "    </tr>\n",
       "    <tr>\n",
       "      <th>2</th>\n",
       "      <td>tt0000003</td>\n",
       "      <td>Animation,Comedy,Romance</td>\n",
       "      <td>Pauvre Pierrot</td>\n",
       "      <td>PAUVRE PIERROT</td>\n",
       "    </tr>\n",
       "    <tr>\n",
       "      <th>3</th>\n",
       "      <td>tt0000004</td>\n",
       "      <td>Animation,Short</td>\n",
       "      <td>Un bon bock</td>\n",
       "      <td>UN BON BOCK</td>\n",
       "    </tr>\n",
       "    <tr>\n",
       "      <th>4</th>\n",
       "      <td>tt0000005</td>\n",
       "      <td>Comedy,Short</td>\n",
       "      <td>Blacksmith Scene</td>\n",
       "      <td>BLACKSMITH SCENE</td>\n",
       "    </tr>\n",
       "  </tbody>\n",
       "</table>\n",
       "</div>"
      ],
      "text/plain": [
       "      tconst                    genres            primaryTitle  \\\n",
       "0  tt0000001         Documentary,Short              Carmencita   \n",
       "1  tt0000002           Animation,Short  Le clown et ses chiens   \n",
       "2  tt0000003  Animation,Comedy,Romance          Pauvre Pierrot   \n",
       "3  tt0000004           Animation,Short             Un bon bock   \n",
       "4  tt0000005              Comedy,Short        Blacksmith Scene   \n",
       "\n",
       "             primaryTitle  \n",
       "0              CARMENCITA  \n",
       "1  LE CLOWN ET SES CHIENS  \n",
       "2          PAUVRE PIERROT  \n",
       "3             UN BON BOCK  \n",
       "4        BLACKSMITH SCENE  "
      ]
     },
     "metadata": {},
     "execution_count": 43
    }
   ],
   "metadata": {
    "id": "GJNl4tcGn1bi"
   }
  },
  {
   "cell_type": "markdown",
   "source": [
    "#### Selecionando valores distintos"
   ],
   "metadata": {
    "id": "TbZL83ifHh10"
   }
  },
  {
   "cell_type": "code",
   "execution_count": 46,
   "source": [
    "df_titles.select('startYear').distinct().toPandas()"
   ],
   "outputs": [
    {
     "output_type": "execute_result",
     "data": {
      "text/html": [
       "<div>\n",
       "<style scoped>\n",
       "    .dataframe tbody tr th:only-of-type {\n",
       "        vertical-align: middle;\n",
       "    }\n",
       "\n",
       "    .dataframe tbody tr th {\n",
       "        vertical-align: top;\n",
       "    }\n",
       "\n",
       "    .dataframe thead th {\n",
       "        text-align: right;\n",
       "    }\n",
       "</style>\n",
       "<table border=\"1\" class=\"dataframe\">\n",
       "  <thead>\n",
       "    <tr style=\"text-align: right;\">\n",
       "      <th></th>\n",
       "      <th>startYear</th>\n",
       "    </tr>\n",
       "  </thead>\n",
       "  <tbody>\n",
       "    <tr>\n",
       "      <th>0</th>\n",
       "      <td>1903</td>\n",
       "    </tr>\n",
       "    <tr>\n",
       "      <th>1</th>\n",
       "      <td>1953</td>\n",
       "    </tr>\n",
       "    <tr>\n",
       "      <th>2</th>\n",
       "      <td>1897</td>\n",
       "    </tr>\n",
       "    <tr>\n",
       "      <th>3</th>\n",
       "      <td>1957</td>\n",
       "    </tr>\n",
       "    <tr>\n",
       "      <th>4</th>\n",
       "      <td>1987</td>\n",
       "    </tr>\n",
       "    <tr>\n",
       "      <th>...</th>\n",
       "      <td>...</td>\n",
       "    </tr>\n",
       "    <tr>\n",
       "      <th>145</th>\n",
       "      <td>1975</td>\n",
       "    </tr>\n",
       "    <tr>\n",
       "      <th>146</th>\n",
       "      <td>1970</td>\n",
       "    </tr>\n",
       "    <tr>\n",
       "      <th>147</th>\n",
       "      <td>1892</td>\n",
       "    </tr>\n",
       "    <tr>\n",
       "      <th>148</th>\n",
       "      <td>1933</td>\n",
       "    </tr>\n",
       "    <tr>\n",
       "      <th>149</th>\n",
       "      <td>1920</td>\n",
       "    </tr>\n",
       "  </tbody>\n",
       "</table>\n",
       "<p>150 rows × 1 columns</p>\n",
       "</div>"
      ],
      "text/plain": [
       "    startYear\n",
       "0        1903\n",
       "1        1953\n",
       "2        1897\n",
       "3        1957\n",
       "4        1987\n",
       "..        ...\n",
       "145      1975\n",
       "146      1970\n",
       "147      1892\n",
       "148      1933\n",
       "149      1920\n",
       "\n",
       "[150 rows x 1 columns]"
      ]
     },
     "metadata": {},
     "execution_count": 46
    }
   ],
   "metadata": {
    "id": "cMug6VcsHoc9"
   }
  },
  {
   "cell_type": "markdown",
   "source": [
    "### Filtros"
   ],
   "metadata": {
    "id": "UW-DEiXZolZf"
   }
  },
  {
   "cell_type": "markdown",
   "source": [
    "Operadores lógicos:\n",
    "* e: &\n",
    "* ou: |\n",
    "* não: ~\n",
    "\n",
    "Para fazer o filtro, pode ser utilizado tanto a função `filter()` como `where()`."
   ],
   "metadata": {
    "id": "ZbbP3O8NUvc8"
   }
  },
  {
   "cell_type": "markdown",
   "source": [
    "#### Filtros com uma condição"
   ],
   "metadata": {
    "id": "W9TJtlHtpSXP"
   }
  },
  {
   "cell_type": "code",
   "execution_count": 15,
   "source": [
    "df_titles.count()"
   ],
   "outputs": [
    {
     "output_type": "execute_result",
     "data": {
      "text/plain": [
       "8135937"
      ]
     },
     "metadata": {},
     "execution_count": 15
    }
   ],
   "metadata": {}
  },
  {
   "cell_type": "code",
   "execution_count": 13,
   "source": [
    "(\n",
    "    df_titles\n",
    "    .filter(~(f.col('titleType') == 'movie'))\n",
    "    .count()\n",
    ")"
   ],
   "outputs": [
    {
     "output_type": "execute_result",
     "data": {
      "text/plain": [
       "7551908"
      ]
     },
     "metadata": {},
     "execution_count": 13
    }
   ],
   "metadata": {
    "id": "ZIzjn9Ysopb7"
   }
  },
  {
   "cell_type": "code",
   "execution_count": 16,
   "source": [
    "(\n",
    "    df_titles\n",
    "    .filter(f.col('titleType') == 'movie')\n",
    "    .limit(5)\n",
    "    .toPandas()\n",
    ")"
   ],
   "outputs": [
    {
     "output_type": "execute_result",
     "data": {
      "text/html": [
       "<div>\n",
       "<style scoped>\n",
       "    .dataframe tbody tr th:only-of-type {\n",
       "        vertical-align: middle;\n",
       "    }\n",
       "\n",
       "    .dataframe tbody tr th {\n",
       "        vertical-align: top;\n",
       "    }\n",
       "\n",
       "    .dataframe thead th {\n",
       "        text-align: right;\n",
       "    }\n",
       "</style>\n",
       "<table border=\"1\" class=\"dataframe\">\n",
       "  <thead>\n",
       "    <tr style=\"text-align: right;\">\n",
       "      <th></th>\n",
       "      <th>tconst</th>\n",
       "      <th>titleType</th>\n",
       "      <th>primaryTitle</th>\n",
       "      <th>originalTitle</th>\n",
       "      <th>isAdult</th>\n",
       "      <th>startYear</th>\n",
       "      <th>endYear</th>\n",
       "      <th>runtimeMinutes</th>\n",
       "      <th>genres</th>\n",
       "    </tr>\n",
       "  </thead>\n",
       "  <tbody>\n",
       "    <tr>\n",
       "      <th>0</th>\n",
       "      <td>tt0000502</td>\n",
       "      <td>movie</td>\n",
       "      <td>Bohemios</td>\n",
       "      <td>Bohemios</td>\n",
       "      <td>0</td>\n",
       "      <td>1905</td>\n",
       "      <td>\\N</td>\n",
       "      <td>100</td>\n",
       "      <td>\\N</td>\n",
       "    </tr>\n",
       "    <tr>\n",
       "      <th>1</th>\n",
       "      <td>tt0000574</td>\n",
       "      <td>movie</td>\n",
       "      <td>The Story of the Kelly Gang</td>\n",
       "      <td>The Story of the Kelly Gang</td>\n",
       "      <td>0</td>\n",
       "      <td>1906</td>\n",
       "      <td>\\N</td>\n",
       "      <td>70</td>\n",
       "      <td>Action,Adventure,Biography</td>\n",
       "    </tr>\n",
       "    <tr>\n",
       "      <th>2</th>\n",
       "      <td>tt0000591</td>\n",
       "      <td>movie</td>\n",
       "      <td>The Prodigal Son</td>\n",
       "      <td>L'enfant prodigue</td>\n",
       "      <td>0</td>\n",
       "      <td>1907</td>\n",
       "      <td>\\N</td>\n",
       "      <td>90</td>\n",
       "      <td>Drama</td>\n",
       "    </tr>\n",
       "    <tr>\n",
       "      <th>3</th>\n",
       "      <td>tt0000615</td>\n",
       "      <td>movie</td>\n",
       "      <td>Robbery Under Arms</td>\n",
       "      <td>Robbery Under Arms</td>\n",
       "      <td>0</td>\n",
       "      <td>1907</td>\n",
       "      <td>\\N</td>\n",
       "      <td>\\N</td>\n",
       "      <td>Drama</td>\n",
       "    </tr>\n",
       "    <tr>\n",
       "      <th>4</th>\n",
       "      <td>tt0000630</td>\n",
       "      <td>movie</td>\n",
       "      <td>Hamlet</td>\n",
       "      <td>Amleto</td>\n",
       "      <td>0</td>\n",
       "      <td>1908</td>\n",
       "      <td>\\N</td>\n",
       "      <td>\\N</td>\n",
       "      <td>Drama</td>\n",
       "    </tr>\n",
       "  </tbody>\n",
       "</table>\n",
       "</div>"
      ],
      "text/plain": [
       "      tconst titleType                 primaryTitle  \\\n",
       "0  tt0000502     movie                     Bohemios   \n",
       "1  tt0000574     movie  The Story of the Kelly Gang   \n",
       "2  tt0000591     movie             The Prodigal Son   \n",
       "3  tt0000615     movie           Robbery Under Arms   \n",
       "4  tt0000630     movie                       Hamlet   \n",
       "\n",
       "                 originalTitle isAdult startYear endYear runtimeMinutes  \\\n",
       "0                     Bohemios       0      1905      \\N            100   \n",
       "1  The Story of the Kelly Gang       0      1906      \\N             70   \n",
       "2            L'enfant prodigue       0      1907      \\N             90   \n",
       "3           Robbery Under Arms       0      1907      \\N             \\N   \n",
       "4                       Amleto       0      1908      \\N             \\N   \n",
       "\n",
       "                       genres  \n",
       "0                          \\N  \n",
       "1  Action,Adventure,Biography  \n",
       "2                       Drama  \n",
       "3                       Drama  \n",
       "4                       Drama  "
      ]
     },
     "metadata": {},
     "execution_count": 16
    }
   ],
   "metadata": {
    "id": "ZIzjn9Ysopb7"
   }
  },
  {
   "cell_type": "markdown",
   "source": [
    "#### Filtros com duas ou mais condições\n",
    "Cada uma das condições deve estar entre parênteses e separada por um operador lógico. Naturalmente, é possível também \"aninhar\" condições, seguindo essa mesma lógica"
   ],
   "metadata": {
    "id": "18P2zY_mpW9z"
   }
  },
  {
   "cell_type": "code",
   "execution_count": 18,
   "source": [
    "(\n",
    "    df_titles\n",
    "    .filter((f.col('titleType') == 'movie') & (f.col('runtimeMinutes') <= 90))\n",
    "    .limit(5)\n",
    "    .toPandas()\n",
    ")"
   ],
   "outputs": [
    {
     "output_type": "execute_result",
     "data": {
      "text/html": [
       "<div>\n",
       "<style scoped>\n",
       "    .dataframe tbody tr th:only-of-type {\n",
       "        vertical-align: middle;\n",
       "    }\n",
       "\n",
       "    .dataframe tbody tr th {\n",
       "        vertical-align: top;\n",
       "    }\n",
       "\n",
       "    .dataframe thead th {\n",
       "        text-align: right;\n",
       "    }\n",
       "</style>\n",
       "<table border=\"1\" class=\"dataframe\">\n",
       "  <thead>\n",
       "    <tr style=\"text-align: right;\">\n",
       "      <th></th>\n",
       "      <th>tconst</th>\n",
       "      <th>titleType</th>\n",
       "      <th>primaryTitle</th>\n",
       "      <th>originalTitle</th>\n",
       "      <th>isAdult</th>\n",
       "      <th>startYear</th>\n",
       "      <th>endYear</th>\n",
       "      <th>runtimeMinutes</th>\n",
       "      <th>genres</th>\n",
       "    </tr>\n",
       "  </thead>\n",
       "  <tbody>\n",
       "    <tr>\n",
       "      <th>0</th>\n",
       "      <td>tt0000574</td>\n",
       "      <td>movie</td>\n",
       "      <td>The Story of the Kelly Gang</td>\n",
       "      <td>The Story of the Kelly Gang</td>\n",
       "      <td>0</td>\n",
       "      <td>1906</td>\n",
       "      <td>\\N</td>\n",
       "      <td>70</td>\n",
       "      <td>Action,Adventure,Biography</td>\n",
       "    </tr>\n",
       "    <tr>\n",
       "      <th>1</th>\n",
       "      <td>tt0000591</td>\n",
       "      <td>movie</td>\n",
       "      <td>The Prodigal Son</td>\n",
       "      <td>L'enfant prodigue</td>\n",
       "      <td>0</td>\n",
       "      <td>1907</td>\n",
       "      <td>\\N</td>\n",
       "      <td>90</td>\n",
       "      <td>Drama</td>\n",
       "    </tr>\n",
       "    <tr>\n",
       "      <th>2</th>\n",
       "      <td>tt0001184</td>\n",
       "      <td>movie</td>\n",
       "      <td>Don Juan de Serrallonga</td>\n",
       "      <td>Don Juan de Serrallonga</td>\n",
       "      <td>0</td>\n",
       "      <td>1910</td>\n",
       "      <td>\\N</td>\n",
       "      <td>58</td>\n",
       "      <td>Adventure,Drama</td>\n",
       "    </tr>\n",
       "    <tr>\n",
       "      <th>3</th>\n",
       "      <td>tt0001258</td>\n",
       "      <td>movie</td>\n",
       "      <td>The White Slave Trade</td>\n",
       "      <td>Den hvide slavehandel</td>\n",
       "      <td>0</td>\n",
       "      <td>1910</td>\n",
       "      <td>\\N</td>\n",
       "      <td>45</td>\n",
       "      <td>Drama</td>\n",
       "    </tr>\n",
       "    <tr>\n",
       "      <th>4</th>\n",
       "      <td>tt0001285</td>\n",
       "      <td>movie</td>\n",
       "      <td>The Life of Moses</td>\n",
       "      <td>The Life of Moses</td>\n",
       "      <td>0</td>\n",
       "      <td>1909</td>\n",
       "      <td>\\N</td>\n",
       "      <td>50</td>\n",
       "      <td>Biography,Drama,Family</td>\n",
       "    </tr>\n",
       "  </tbody>\n",
       "</table>\n",
       "</div>"
      ],
      "text/plain": [
       "      tconst titleType                 primaryTitle  \\\n",
       "0  tt0000574     movie  The Story of the Kelly Gang   \n",
       "1  tt0000591     movie             The Prodigal Son   \n",
       "2  tt0001184     movie      Don Juan de Serrallonga   \n",
       "3  tt0001258     movie        The White Slave Trade   \n",
       "4  tt0001285     movie            The Life of Moses   \n",
       "\n",
       "                 originalTitle isAdult startYear endYear runtimeMinutes  \\\n",
       "0  The Story of the Kelly Gang       0      1906      \\N             70   \n",
       "1            L'enfant prodigue       0      1907      \\N             90   \n",
       "2      Don Juan de Serrallonga       0      1910      \\N             58   \n",
       "3        Den hvide slavehandel       0      1910      \\N             45   \n",
       "4            The Life of Moses       0      1909      \\N             50   \n",
       "\n",
       "                       genres  \n",
       "0  Action,Adventure,Biography  \n",
       "1                       Drama  \n",
       "2             Adventure,Drama  \n",
       "3                       Drama  \n",
       "4      Biography,Drama,Family  "
      ]
     },
     "metadata": {},
     "execution_count": 18
    }
   ],
   "metadata": {
    "id": "swJ6NhRWpQRn"
   }
  },
  {
   "cell_type": "code",
   "execution_count": 22,
   "source": [
    "(\n",
    "    df_titles.filter((f.col('titleType') == 'movie') & (f.col('runtimeMinutes') <= 90))\n",
    "    .count()\n",
    ")"
   ],
   "outputs": [
    {
     "output_type": "execute_result",
     "data": {
      "text/plain": [
       "212055"
      ]
     },
     "metadata": {},
     "execution_count": 22
    }
   ],
   "metadata": {
    "id": "swJ6NhRWpQRn"
   }
  },
  {
   "cell_type": "code",
   "execution_count": 23,
   "source": [
    "(\n",
    "    df_titles\n",
    "    .filter(((f.col('titleType') == 'movie') | (f.col('titleType') == 'tvSeries')) & (f.col('runtimeMinutes') <= 90))\n",
    "    .count()\n",
    ")"
   ],
   "outputs": [
    {
     "output_type": "execute_result",
     "data": {
      "text/plain": [
       "292511"
      ]
     },
     "metadata": {},
     "execution_count": 23
    }
   ],
   "metadata": {
    "id": "96uyYvbHqPDg"
   }
  },
  {
   "cell_type": "code",
   "execution_count": 24,
   "source": [
    "(\n",
    "    df_titles\n",
    "    .filter((f.col('titleType').isin('movie', 'tvSeries')) & (f.col('runtimeMinutes') <= 90))\n",
    "    .count()\n",
    ")"
   ],
   "outputs": [
    {
     "output_type": "execute_result",
     "data": {
      "text/plain": [
       "292511"
      ]
     },
     "metadata": {},
     "execution_count": 24
    }
   ],
   "metadata": {
    "id": "htiqqZERrLZT"
   }
  },
  {
   "cell_type": "code",
   "execution_count": 26,
   "source": [
    "(\n",
    "    df_titles\n",
    "    .filter(f.col('titleType').isin('movie','tvSeries'))\n",
    "    .filter(f.col('runtimeMinutes') <= 90)\n",
    "    .count()\n",
    ")"
   ],
   "outputs": [
    {
     "output_type": "execute_result",
     "data": {
      "text/plain": [
       "292511"
      ]
     },
     "metadata": {},
     "execution_count": 26
    }
   ],
   "metadata": {
    "id": "htiqqZERrLZT"
   }
  },
  {
   "cell_type": "markdown",
   "source": [
    "#### Filtros Utilizando Expressões"
   ],
   "metadata": {
    "id": "r7No5VU2qaXS"
   }
  },
  {
   "cell_type": "code",
   "execution_count": null,
   "source": [
    "\"\"\"\n",
    "SELECT * FROM table\n",
    "WHERE ...\n",
    "\"\"\""
   ],
   "outputs": [],
   "metadata": {}
  },
  {
   "cell_type": "code",
   "execution_count": 28,
   "source": [
    "(\n",
    "    df_titles\n",
    "    .filter('titleType = \"movie\"')\n",
    "    .limit(5)\n",
    "    .toPandas()\n",
    ")"
   ],
   "outputs": [
    {
     "output_type": "execute_result",
     "data": {
      "text/html": [
       "<div>\n",
       "<style scoped>\n",
       "    .dataframe tbody tr th:only-of-type {\n",
       "        vertical-align: middle;\n",
       "    }\n",
       "\n",
       "    .dataframe tbody tr th {\n",
       "        vertical-align: top;\n",
       "    }\n",
       "\n",
       "    .dataframe thead th {\n",
       "        text-align: right;\n",
       "    }\n",
       "</style>\n",
       "<table border=\"1\" class=\"dataframe\">\n",
       "  <thead>\n",
       "    <tr style=\"text-align: right;\">\n",
       "      <th></th>\n",
       "      <th>tconst</th>\n",
       "      <th>titleType</th>\n",
       "      <th>primaryTitle</th>\n",
       "      <th>originalTitle</th>\n",
       "      <th>isAdult</th>\n",
       "      <th>startYear</th>\n",
       "      <th>endYear</th>\n",
       "      <th>runtimeMinutes</th>\n",
       "      <th>genres</th>\n",
       "    </tr>\n",
       "  </thead>\n",
       "  <tbody>\n",
       "    <tr>\n",
       "      <th>0</th>\n",
       "      <td>tt0000502</td>\n",
       "      <td>movie</td>\n",
       "      <td>Bohemios</td>\n",
       "      <td>Bohemios</td>\n",
       "      <td>0</td>\n",
       "      <td>1905</td>\n",
       "      <td>\\N</td>\n",
       "      <td>100</td>\n",
       "      <td>\\N</td>\n",
       "    </tr>\n",
       "    <tr>\n",
       "      <th>1</th>\n",
       "      <td>tt0000574</td>\n",
       "      <td>movie</td>\n",
       "      <td>The Story of the Kelly Gang</td>\n",
       "      <td>The Story of the Kelly Gang</td>\n",
       "      <td>0</td>\n",
       "      <td>1906</td>\n",
       "      <td>\\N</td>\n",
       "      <td>70</td>\n",
       "      <td>Action,Adventure,Biography</td>\n",
       "    </tr>\n",
       "    <tr>\n",
       "      <th>2</th>\n",
       "      <td>tt0000591</td>\n",
       "      <td>movie</td>\n",
       "      <td>The Prodigal Son</td>\n",
       "      <td>L'enfant prodigue</td>\n",
       "      <td>0</td>\n",
       "      <td>1907</td>\n",
       "      <td>\\N</td>\n",
       "      <td>90</td>\n",
       "      <td>Drama</td>\n",
       "    </tr>\n",
       "    <tr>\n",
       "      <th>3</th>\n",
       "      <td>tt0000615</td>\n",
       "      <td>movie</td>\n",
       "      <td>Robbery Under Arms</td>\n",
       "      <td>Robbery Under Arms</td>\n",
       "      <td>0</td>\n",
       "      <td>1907</td>\n",
       "      <td>\\N</td>\n",
       "      <td>\\N</td>\n",
       "      <td>Drama</td>\n",
       "    </tr>\n",
       "    <tr>\n",
       "      <th>4</th>\n",
       "      <td>tt0000630</td>\n",
       "      <td>movie</td>\n",
       "      <td>Hamlet</td>\n",
       "      <td>Amleto</td>\n",
       "      <td>0</td>\n",
       "      <td>1908</td>\n",
       "      <td>\\N</td>\n",
       "      <td>\\N</td>\n",
       "      <td>Drama</td>\n",
       "    </tr>\n",
       "  </tbody>\n",
       "</table>\n",
       "</div>"
      ],
      "text/plain": [
       "      tconst titleType                 primaryTitle  \\\n",
       "0  tt0000502     movie                     Bohemios   \n",
       "1  tt0000574     movie  The Story of the Kelly Gang   \n",
       "2  tt0000591     movie             The Prodigal Son   \n",
       "3  tt0000615     movie           Robbery Under Arms   \n",
       "4  tt0000630     movie                       Hamlet   \n",
       "\n",
       "                 originalTitle isAdult startYear endYear runtimeMinutes  \\\n",
       "0                     Bohemios       0      1905      \\N            100   \n",
       "1  The Story of the Kelly Gang       0      1906      \\N             70   \n",
       "2            L'enfant prodigue       0      1907      \\N             90   \n",
       "3           Robbery Under Arms       0      1907      \\N             \\N   \n",
       "4                       Amleto       0      1908      \\N             \\N   \n",
       "\n",
       "                       genres  \n",
       "0                          \\N  \n",
       "1  Action,Adventure,Biography  \n",
       "2                       Drama  \n",
       "3                       Drama  \n",
       "4                       Drama  "
      ]
     },
     "metadata": {},
     "execution_count": 28
    }
   ],
   "metadata": {
    "id": "TdDAkcx_qcud"
   }
  },
  {
   "cell_type": "code",
   "execution_count": 29,
   "source": [
    "(\n",
    "    df_titles\n",
    "    .filter('titleType in (\"movie\", \"tvSeries\") and runtimeMinutes <= 90')\n",
    "    .limit(5)\n",
    "    .toPandas()\n",
    ")"
   ],
   "outputs": [
    {
     "output_type": "execute_result",
     "data": {
      "text/html": [
       "<div>\n",
       "<style scoped>\n",
       "    .dataframe tbody tr th:only-of-type {\n",
       "        vertical-align: middle;\n",
       "    }\n",
       "\n",
       "    .dataframe tbody tr th {\n",
       "        vertical-align: top;\n",
       "    }\n",
       "\n",
       "    .dataframe thead th {\n",
       "        text-align: right;\n",
       "    }\n",
       "</style>\n",
       "<table border=\"1\" class=\"dataframe\">\n",
       "  <thead>\n",
       "    <tr style=\"text-align: right;\">\n",
       "      <th></th>\n",
       "      <th>tconst</th>\n",
       "      <th>titleType</th>\n",
       "      <th>primaryTitle</th>\n",
       "      <th>originalTitle</th>\n",
       "      <th>isAdult</th>\n",
       "      <th>startYear</th>\n",
       "      <th>endYear</th>\n",
       "      <th>runtimeMinutes</th>\n",
       "      <th>genres</th>\n",
       "    </tr>\n",
       "  </thead>\n",
       "  <tbody>\n",
       "    <tr>\n",
       "      <th>0</th>\n",
       "      <td>tt0000574</td>\n",
       "      <td>movie</td>\n",
       "      <td>The Story of the Kelly Gang</td>\n",
       "      <td>The Story of the Kelly Gang</td>\n",
       "      <td>0</td>\n",
       "      <td>1906</td>\n",
       "      <td>\\N</td>\n",
       "      <td>70</td>\n",
       "      <td>Action,Adventure,Biography</td>\n",
       "    </tr>\n",
       "    <tr>\n",
       "      <th>1</th>\n",
       "      <td>tt0000591</td>\n",
       "      <td>movie</td>\n",
       "      <td>The Prodigal Son</td>\n",
       "      <td>L'enfant prodigue</td>\n",
       "      <td>0</td>\n",
       "      <td>1907</td>\n",
       "      <td>\\N</td>\n",
       "      <td>90</td>\n",
       "      <td>Drama</td>\n",
       "    </tr>\n",
       "    <tr>\n",
       "      <th>2</th>\n",
       "      <td>tt0001184</td>\n",
       "      <td>movie</td>\n",
       "      <td>Don Juan de Serrallonga</td>\n",
       "      <td>Don Juan de Serrallonga</td>\n",
       "      <td>0</td>\n",
       "      <td>1910</td>\n",
       "      <td>\\N</td>\n",
       "      <td>58</td>\n",
       "      <td>Adventure,Drama</td>\n",
       "    </tr>\n",
       "    <tr>\n",
       "      <th>3</th>\n",
       "      <td>tt0001258</td>\n",
       "      <td>movie</td>\n",
       "      <td>The White Slave Trade</td>\n",
       "      <td>Den hvide slavehandel</td>\n",
       "      <td>0</td>\n",
       "      <td>1910</td>\n",
       "      <td>\\N</td>\n",
       "      <td>45</td>\n",
       "      <td>Drama</td>\n",
       "    </tr>\n",
       "    <tr>\n",
       "      <th>4</th>\n",
       "      <td>tt0001285</td>\n",
       "      <td>movie</td>\n",
       "      <td>The Life of Moses</td>\n",
       "      <td>The Life of Moses</td>\n",
       "      <td>0</td>\n",
       "      <td>1909</td>\n",
       "      <td>\\N</td>\n",
       "      <td>50</td>\n",
       "      <td>Biography,Drama,Family</td>\n",
       "    </tr>\n",
       "  </tbody>\n",
       "</table>\n",
       "</div>"
      ],
      "text/plain": [
       "      tconst titleType                 primaryTitle  \\\n",
       "0  tt0000574     movie  The Story of the Kelly Gang   \n",
       "1  tt0000591     movie             The Prodigal Son   \n",
       "2  tt0001184     movie      Don Juan de Serrallonga   \n",
       "3  tt0001258     movie        The White Slave Trade   \n",
       "4  tt0001285     movie            The Life of Moses   \n",
       "\n",
       "                 originalTitle isAdult startYear endYear runtimeMinutes  \\\n",
       "0  The Story of the Kelly Gang       0      1906      \\N             70   \n",
       "1            L'enfant prodigue       0      1907      \\N             90   \n",
       "2      Don Juan de Serrallonga       0      1910      \\N             58   \n",
       "3        Den hvide slavehandel       0      1910      \\N             45   \n",
       "4            The Life of Moses       0      1909      \\N             50   \n",
       "\n",
       "                       genres  \n",
       "0  Action,Adventure,Biography  \n",
       "1                       Drama  \n",
       "2             Adventure,Drama  \n",
       "3                       Drama  \n",
       "4      Biography,Drama,Family  "
      ]
     },
     "metadata": {},
     "execution_count": 29
    }
   ],
   "metadata": {
    "id": "UHojQs9HqdRI"
   }
  },
  {
   "cell_type": "markdown",
   "source": [
    "#### Observações\n",
    "Quando nos referimos às colunas por meio da função `col()`, temos acesso à diversos métodos das colunas que podem ser utilizados para auxliar na filtragem do DataFrame. Alguns deles são:\n",
    "* `isin()`: checa se a coluna contém os valores listados na função.\n",
    "* `contains()`: utilizado para verificar se uma coluna de texto contém algum padrão especificado (não aceita regex). Aceita uma outra coluna de texto.\n",
    "* `like()`: utilizado para verificar se uma coluna de texto contém algum padrão especificado (não aceita regex). Funciona de forma similar ao \"LIKE\" do SQL.\n",
    "* `rlike()`: utilizado para verificar se uma coluna de texto contém algum padrão especificado (**aceita regex**). Funciona de forma similar ao \"RLIKE\" do SQL.\n",
    "* `startswith()`: utilizado para verificar se uma coluna de texto começa com algum padrão especificado (**aceita regex**).\n",
    "* `endswith()`: utilizado para verificar se uma coluna de texto termina com algum padrão especificado (**aceita regex**).\n",
    "* `between()`: checa se os valores da coluna estão dentro do intervalo especificado. Os dois lados do intervalo são inclusivos.\n",
    "* `isNull()`: retorna True se o valor da coluna é nulo\n",
    "* `isNotNull()`: retorna True se o valor da coluna não é nulo\n",
    "\n",
    "Outros métodos úteis:\n",
    "* `alias()/name()`: usado para renomear as colunas em operações como select() e agg()\n",
    "* `astype()/cast()`: usado para mudar o tipo das colunas. Aceita tanto um string como um tipo especificado pelo módulo pyspark.sql.types\n",
    "* `substr()`: utilizado para cortar um string com base em índices dos caracteres "
   ],
   "metadata": {
    "id": "hIU3LBh9r6Y5"
   }
  },
  {
   "cell_type": "code",
   "execution_count": 30,
   "source": [
    "(\n",
    "    df_titles\n",
    "    .filter(f.col('primaryTitle').like('Avengers%'))\n",
    "    .filter(f.col('titleType') == 'movie')\n",
    "    .limit(5)\n",
    "    .toPandas()\n",
    ")"
   ],
   "outputs": [
    {
     "output_type": "execute_result",
     "data": {
      "text/html": [
       "<div>\n",
       "<style scoped>\n",
       "    .dataframe tbody tr th:only-of-type {\n",
       "        vertical-align: middle;\n",
       "    }\n",
       "\n",
       "    .dataframe tbody tr th {\n",
       "        vertical-align: top;\n",
       "    }\n",
       "\n",
       "    .dataframe thead th {\n",
       "        text-align: right;\n",
       "    }\n",
       "</style>\n",
       "<table border=\"1\" class=\"dataframe\">\n",
       "  <thead>\n",
       "    <tr style=\"text-align: right;\">\n",
       "      <th></th>\n",
       "      <th>tconst</th>\n",
       "      <th>titleType</th>\n",
       "      <th>primaryTitle</th>\n",
       "      <th>originalTitle</th>\n",
       "      <th>isAdult</th>\n",
       "      <th>startYear</th>\n",
       "      <th>endYear</th>\n",
       "      <th>runtimeMinutes</th>\n",
       "      <th>genres</th>\n",
       "    </tr>\n",
       "  </thead>\n",
       "  <tbody>\n",
       "    <tr>\n",
       "      <th>0</th>\n",
       "      <td>tt0069746</td>\n",
       "      <td>movie</td>\n",
       "      <td>Avengers of the Reef</td>\n",
       "      <td>Avengers of the Reef</td>\n",
       "      <td>0</td>\n",
       "      <td>1973</td>\n",
       "      <td>\\N</td>\n",
       "      <td>84</td>\n",
       "      <td>Adventure,Family</td>\n",
       "    </tr>\n",
       "    <tr>\n",
       "      <th>1</th>\n",
       "      <td>tt6172666</td>\n",
       "      <td>movie</td>\n",
       "      <td>Avengers of Justice: Farce Wars</td>\n",
       "      <td>Avengers of Justice: Farce Wars</td>\n",
       "      <td>0</td>\n",
       "      <td>2018</td>\n",
       "      <td>\\N</td>\n",
       "      <td>87</td>\n",
       "      <td>Action,Comedy,Family</td>\n",
       "    </tr>\n",
       "    <tr>\n",
       "      <th>2</th>\n",
       "      <td>tt4154756</td>\n",
       "      <td>movie</td>\n",
       "      <td>Avengers: Infinity War</td>\n",
       "      <td>Avengers: Infinity War</td>\n",
       "      <td>0</td>\n",
       "      <td>2018</td>\n",
       "      <td>\\N</td>\n",
       "      <td>149</td>\n",
       "      <td>Action,Adventure,Sci-Fi</td>\n",
       "    </tr>\n",
       "    <tr>\n",
       "      <th>3</th>\n",
       "      <td>tt4154796</td>\n",
       "      <td>movie</td>\n",
       "      <td>Avengers: Endgame</td>\n",
       "      <td>Avengers: Endgame</td>\n",
       "      <td>0</td>\n",
       "      <td>2019</td>\n",
       "      <td>\\N</td>\n",
       "      <td>181</td>\n",
       "      <td>Action,Adventure,Drama</td>\n",
       "    </tr>\n",
       "    <tr>\n",
       "      <th>4</th>\n",
       "      <td>tt13925114</td>\n",
       "      <td>movie</td>\n",
       "      <td>Avengers: Infinity War Demastered</td>\n",
       "      <td>Avengers: Infinity War Demastered</td>\n",
       "      <td>0</td>\n",
       "      <td>2019</td>\n",
       "      <td>\\N</td>\n",
       "      <td>135</td>\n",
       "      <td>Action,Adventure,Comedy</td>\n",
       "    </tr>\n",
       "  </tbody>\n",
       "</table>\n",
       "</div>"
      ],
      "text/plain": [
       "       tconst titleType                       primaryTitle  \\\n",
       "0   tt0069746     movie               Avengers of the Reef   \n",
       "1   tt6172666     movie    Avengers of Justice: Farce Wars   \n",
       "2   tt4154756     movie             Avengers: Infinity War   \n",
       "3   tt4154796     movie                  Avengers: Endgame   \n",
       "4  tt13925114     movie  Avengers: Infinity War Demastered   \n",
       "\n",
       "                       originalTitle isAdult startYear endYear runtimeMinutes  \\\n",
       "0               Avengers of the Reef       0      1973      \\N             84   \n",
       "1    Avengers of Justice: Farce Wars       0      2018      \\N             87   \n",
       "2             Avengers: Infinity War       0      2018      \\N            149   \n",
       "3                  Avengers: Endgame       0      2019      \\N            181   \n",
       "4  Avengers: Infinity War Demastered       0      2019      \\N            135   \n",
       "\n",
       "                    genres  \n",
       "0         Adventure,Family  \n",
       "1     Action,Comedy,Family  \n",
       "2  Action,Adventure,Sci-Fi  \n",
       "3   Action,Adventure,Drama  \n",
       "4  Action,Adventure,Comedy  "
      ]
     },
     "metadata": {},
     "execution_count": 30
    }
   ],
   "metadata": {
    "id": "5_PLVkeDE5bO"
   }
  },
  {
   "cell_type": "code",
   "execution_count": 32,
   "source": [
    "(\n",
    "    df_titles\n",
    "    .withColumn('startYear', f.col(\"startYear\").cast('int'))\n",
    "    .filter('startYear is null')\n",
    "    .limit(5)\n",
    "    .toPandas()\n",
    ")"
   ],
   "outputs": [
    {
     "output_type": "execute_result",
     "data": {
      "text/html": [
       "<div>\n",
       "<style scoped>\n",
       "    .dataframe tbody tr th:only-of-type {\n",
       "        vertical-align: middle;\n",
       "    }\n",
       "\n",
       "    .dataframe tbody tr th {\n",
       "        vertical-align: top;\n",
       "    }\n",
       "\n",
       "    .dataframe thead th {\n",
       "        text-align: right;\n",
       "    }\n",
       "</style>\n",
       "<table border=\"1\" class=\"dataframe\">\n",
       "  <thead>\n",
       "    <tr style=\"text-align: right;\">\n",
       "      <th></th>\n",
       "      <th>tconst</th>\n",
       "      <th>titleType</th>\n",
       "      <th>primaryTitle</th>\n",
       "      <th>originalTitle</th>\n",
       "      <th>isAdult</th>\n",
       "      <th>startYear</th>\n",
       "      <th>endYear</th>\n",
       "      <th>runtimeMinutes</th>\n",
       "      <th>genres</th>\n",
       "    </tr>\n",
       "  </thead>\n",
       "  <tbody>\n",
       "    <tr>\n",
       "      <th>0</th>\n",
       "      <td>tt0067098</td>\n",
       "      <td>tvEpisode</td>\n",
       "      <td>Willi Forst</td>\n",
       "      <td>Willi Forst</td>\n",
       "      <td>0</td>\n",
       "      <td>NaN</td>\n",
       "      <td>\\N</td>\n",
       "      <td>55</td>\n",
       "      <td>\\N</td>\n",
       "    </tr>\n",
       "    <tr>\n",
       "      <th>1</th>\n",
       "      <td>tt0071158</td>\n",
       "      <td>tvEpisode</td>\n",
       "      <td>The Arcata Promise</td>\n",
       "      <td>The Arcata Promise</td>\n",
       "      <td>0</td>\n",
       "      <td>NaN</td>\n",
       "      <td>\\N</td>\n",
       "      <td>\\N</td>\n",
       "      <td>Drama</td>\n",
       "    </tr>\n",
       "    <tr>\n",
       "      <th>2</th>\n",
       "      <td>tt0073399</td>\n",
       "      <td>movie</td>\n",
       "      <td>Atlantic City Jackpot</td>\n",
       "      <td>The Money</td>\n",
       "      <td>0</td>\n",
       "      <td>NaN</td>\n",
       "      <td>\\N</td>\n",
       "      <td>88</td>\n",
       "      <td>Action,Drama</td>\n",
       "    </tr>\n",
       "    <tr>\n",
       "      <th>3</th>\n",
       "      <td>tt0085677</td>\n",
       "      <td>tvEpisode</td>\n",
       "      <td>High Country</td>\n",
       "      <td>High Country</td>\n",
       "      <td>0</td>\n",
       "      <td>NaN</td>\n",
       "      <td>\\N</td>\n",
       "      <td>\\N</td>\n",
       "      <td>Sport</td>\n",
       "    </tr>\n",
       "    <tr>\n",
       "      <th>4</th>\n",
       "      <td>tt0090238</td>\n",
       "      <td>movie</td>\n",
       "      <td>Unternehmen Geigenkasten</td>\n",
       "      <td>Unternehmen Geigenkasten</td>\n",
       "      <td>0</td>\n",
       "      <td>NaN</td>\n",
       "      <td>\\N</td>\n",
       "      <td>82</td>\n",
       "      <td>Crime,Family</td>\n",
       "    </tr>\n",
       "  </tbody>\n",
       "</table>\n",
       "</div>"
      ],
      "text/plain": [
       "      tconst  titleType              primaryTitle             originalTitle  \\\n",
       "0  tt0067098  tvEpisode               Willi Forst               Willi Forst   \n",
       "1  tt0071158  tvEpisode        The Arcata Promise        The Arcata Promise   \n",
       "2  tt0073399      movie     Atlantic City Jackpot                 The Money   \n",
       "3  tt0085677  tvEpisode              High Country              High Country   \n",
       "4  tt0090238      movie  Unternehmen Geigenkasten  Unternehmen Geigenkasten   \n",
       "\n",
       "  isAdult  startYear endYear runtimeMinutes        genres  \n",
       "0       0        NaN      \\N             55            \\N  \n",
       "1       0        NaN      \\N             \\N         Drama  \n",
       "2       0        NaN      \\N             88  Action,Drama  \n",
       "3       0        NaN      \\N             \\N         Sport  \n",
       "4       0        NaN      \\N             82  Crime,Family  "
      ]
     },
     "metadata": {},
     "execution_count": 32
    }
   ],
   "metadata": {
    "id": "5_PLVkeDE5bO"
   }
  },
  {
   "cell_type": "markdown",
   "source": [
    "### Ordenando o DataFrame"
   ],
   "metadata": {
    "id": "GGh6ifiDIM-P"
   }
  },
  {
   "cell_type": "markdown",
   "source": [
    "A ordenação do DataFrame pode ser feita utilizando as funções `orderBy()` ou `sort()`. Algumas funções auxiliares importante para serem usadas ao ordenar:\n",
    "* `asc()`: ordena a coluna de forma ascendente (default)\n",
    "* `desc()`ordena a coluna de forma decrescente\n",
    "* `asc_nulls_first() / desc_nulls_first()`: ordena a coluna de forma ascendente e decrescente, respectivamente, mantendo os campos nulos primeiro\n",
    "* `asc_nulls_last() / desc_nulls_last()`: ordena a coluna de forma ascendente e decrescente, respectivamente, mantendo os campos nulos por último"
   ],
   "metadata": {
    "id": "C6up9X4QJN1s"
   }
  },
  {
   "cell_type": "code",
   "execution_count": 37,
   "source": [
    "(\n",
    "    df_titles\n",
    "    .withColumn('startYear', f.col('startYear').cast('int'))\n",
    "    .filter('titleType = \"movie\"')\n",
    "    .orderBy(f.asc('startYear'))\n",
    "    .limit(5)\n",
    "    .toPandas()\n",
    ")"
   ],
   "outputs": [
    {
     "output_type": "execute_result",
     "data": {
      "text/html": [
       "<div>\n",
       "<style scoped>\n",
       "    .dataframe tbody tr th:only-of-type {\n",
       "        vertical-align: middle;\n",
       "    }\n",
       "\n",
       "    .dataframe tbody tr th {\n",
       "        vertical-align: top;\n",
       "    }\n",
       "\n",
       "    .dataframe thead th {\n",
       "        text-align: right;\n",
       "    }\n",
       "</style>\n",
       "<table border=\"1\" class=\"dataframe\">\n",
       "  <thead>\n",
       "    <tr style=\"text-align: right;\">\n",
       "      <th></th>\n",
       "      <th>tconst</th>\n",
       "      <th>titleType</th>\n",
       "      <th>primaryTitle</th>\n",
       "      <th>originalTitle</th>\n",
       "      <th>isAdult</th>\n",
       "      <th>startYear</th>\n",
       "      <th>endYear</th>\n",
       "      <th>runtimeMinutes</th>\n",
       "      <th>genres</th>\n",
       "    </tr>\n",
       "  </thead>\n",
       "  <tbody>\n",
       "    <tr>\n",
       "      <th>0</th>\n",
       "      <td>tt5617648</td>\n",
       "      <td>movie</td>\n",
       "      <td>A Casa no Fim da Estrada</td>\n",
       "      <td>A Casa no Fim da Estrada</td>\n",
       "      <td>0</td>\n",
       "      <td>NaN</td>\n",
       "      <td>\\N</td>\n",
       "      <td>\\N</td>\n",
       "      <td>Thriller</td>\n",
       "    </tr>\n",
       "    <tr>\n",
       "      <th>1</th>\n",
       "      <td>tt5617490</td>\n",
       "      <td>movie</td>\n",
       "      <td>The Awakened</td>\n",
       "      <td>The Awakened</td>\n",
       "      <td>0</td>\n",
       "      <td>NaN</td>\n",
       "      <td>\\N</td>\n",
       "      <td>\\N</td>\n",
       "      <td>Thriller</td>\n",
       "    </tr>\n",
       "    <tr>\n",
       "      <th>2</th>\n",
       "      <td>tt5617712</td>\n",
       "      <td>movie</td>\n",
       "      <td>Live Die Repeat and Repeat</td>\n",
       "      <td>Live Die Repeat and Repeat</td>\n",
       "      <td>0</td>\n",
       "      <td>NaN</td>\n",
       "      <td>\\N</td>\n",
       "      <td>\\N</td>\n",
       "      <td>Action,Adventure,Sci-Fi</td>\n",
       "    </tr>\n",
       "    <tr>\n",
       "      <th>3</th>\n",
       "      <td>tt5617754</td>\n",
       "      <td>movie</td>\n",
       "      <td>Hearts of Glass: Documentary in Production</td>\n",
       "      <td>Hearts of Glass: Documentary in Production</td>\n",
       "      <td>0</td>\n",
       "      <td>NaN</td>\n",
       "      <td>\\N</td>\n",
       "      <td>\\N</td>\n",
       "      <td>Documentary</td>\n",
       "    </tr>\n",
       "    <tr>\n",
       "      <th>4</th>\n",
       "      <td>tt5617950</td>\n",
       "      <td>movie</td>\n",
       "      <td>End of Animal</td>\n",
       "      <td>End of Animal</td>\n",
       "      <td>0</td>\n",
       "      <td>NaN</td>\n",
       "      <td>\\N</td>\n",
       "      <td>\\N</td>\n",
       "      <td>Mystery,Thriller</td>\n",
       "    </tr>\n",
       "  </tbody>\n",
       "</table>\n",
       "</div>"
      ],
      "text/plain": [
       "      tconst titleType                                primaryTitle  \\\n",
       "0  tt5617648     movie                    A Casa no Fim da Estrada   \n",
       "1  tt5617490     movie                                The Awakened   \n",
       "2  tt5617712     movie                  Live Die Repeat and Repeat   \n",
       "3  tt5617754     movie  Hearts of Glass: Documentary in Production   \n",
       "4  tt5617950     movie                               End of Animal   \n",
       "\n",
       "                                originalTitle isAdult  startYear endYear  \\\n",
       "0                    A Casa no Fim da Estrada       0        NaN      \\N   \n",
       "1                                The Awakened       0        NaN      \\N   \n",
       "2                  Live Die Repeat and Repeat       0        NaN      \\N   \n",
       "3  Hearts of Glass: Documentary in Production       0        NaN      \\N   \n",
       "4                               End of Animal       0        NaN      \\N   \n",
       "\n",
       "  runtimeMinutes                   genres  \n",
       "0             \\N                 Thriller  \n",
       "1             \\N                 Thriller  \n",
       "2             \\N  Action,Adventure,Sci-Fi  \n",
       "3             \\N              Documentary  \n",
       "4             \\N         Mystery,Thriller  "
      ]
     },
     "metadata": {},
     "execution_count": 37
    }
   ],
   "metadata": {
    "id": "GF4v4b-rISVe"
   }
  },
  {
   "cell_type": "markdown",
   "source": [
    "### Renomeando Colunas"
   ],
   "metadata": {
    "id": "JejMRib9v7Ji"
   }
  },
  {
   "cell_type": "markdown",
   "source": [
    "Para renomear colunas, é utilizada a função `withColumnRenamed()`, da seguinte forma:\n",
    "\n",
    "```\n",
    "df.withColumnRenamed(\"nome_antigo\", \"nome_novo\")\n",
    "```"
   ],
   "metadata": {
    "id": "A-r10heJh5BD"
   }
  },
  {
   "cell_type": "code",
   "execution_count": 46,
   "source": [
    "df_titles.replace('\\\\N', None, subset=['endYear', 'startYear']).limit(5).toPandas()"
   ],
   "outputs": [
    {
     "output_type": "execute_result",
     "data": {
      "text/html": [
       "<div>\n",
       "<style scoped>\n",
       "    .dataframe tbody tr th:only-of-type {\n",
       "        vertical-align: middle;\n",
       "    }\n",
       "\n",
       "    .dataframe tbody tr th {\n",
       "        vertical-align: top;\n",
       "    }\n",
       "\n",
       "    .dataframe thead th {\n",
       "        text-align: right;\n",
       "    }\n",
       "</style>\n",
       "<table border=\"1\" class=\"dataframe\">\n",
       "  <thead>\n",
       "    <tr style=\"text-align: right;\">\n",
       "      <th></th>\n",
       "      <th>tconst</th>\n",
       "      <th>titleType</th>\n",
       "      <th>primaryTitle</th>\n",
       "      <th>originalTitle</th>\n",
       "      <th>isAdult</th>\n",
       "      <th>startYear</th>\n",
       "      <th>endYear</th>\n",
       "      <th>runtimeMinutes</th>\n",
       "      <th>genres</th>\n",
       "    </tr>\n",
       "  </thead>\n",
       "  <tbody>\n",
       "    <tr>\n",
       "      <th>0</th>\n",
       "      <td>tt0000001</td>\n",
       "      <td>short</td>\n",
       "      <td>Carmencita</td>\n",
       "      <td>Carmencita</td>\n",
       "      <td>0</td>\n",
       "      <td>1894</td>\n",
       "      <td>None</td>\n",
       "      <td>1</td>\n",
       "      <td>Documentary,Short</td>\n",
       "    </tr>\n",
       "    <tr>\n",
       "      <th>1</th>\n",
       "      <td>tt0000002</td>\n",
       "      <td>short</td>\n",
       "      <td>Le clown et ses chiens</td>\n",
       "      <td>Le clown et ses chiens</td>\n",
       "      <td>0</td>\n",
       "      <td>1892</td>\n",
       "      <td>None</td>\n",
       "      <td>5</td>\n",
       "      <td>Animation,Short</td>\n",
       "    </tr>\n",
       "    <tr>\n",
       "      <th>2</th>\n",
       "      <td>tt0000003</td>\n",
       "      <td>short</td>\n",
       "      <td>Pauvre Pierrot</td>\n",
       "      <td>Pauvre Pierrot</td>\n",
       "      <td>0</td>\n",
       "      <td>1892</td>\n",
       "      <td>None</td>\n",
       "      <td>4</td>\n",
       "      <td>Animation,Comedy,Romance</td>\n",
       "    </tr>\n",
       "    <tr>\n",
       "      <th>3</th>\n",
       "      <td>tt0000004</td>\n",
       "      <td>short</td>\n",
       "      <td>Un bon bock</td>\n",
       "      <td>Un bon bock</td>\n",
       "      <td>0</td>\n",
       "      <td>1892</td>\n",
       "      <td>None</td>\n",
       "      <td>12</td>\n",
       "      <td>Animation,Short</td>\n",
       "    </tr>\n",
       "    <tr>\n",
       "      <th>4</th>\n",
       "      <td>tt0000005</td>\n",
       "      <td>short</td>\n",
       "      <td>Blacksmith Scene</td>\n",
       "      <td>Blacksmith Scene</td>\n",
       "      <td>0</td>\n",
       "      <td>1893</td>\n",
       "      <td>None</td>\n",
       "      <td>1</td>\n",
       "      <td>Comedy,Short</td>\n",
       "    </tr>\n",
       "  </tbody>\n",
       "</table>\n",
       "</div>"
      ],
      "text/plain": [
       "      tconst titleType            primaryTitle           originalTitle  \\\n",
       "0  tt0000001     short              Carmencita              Carmencita   \n",
       "1  tt0000002     short  Le clown et ses chiens  Le clown et ses chiens   \n",
       "2  tt0000003     short          Pauvre Pierrot          Pauvre Pierrot   \n",
       "3  tt0000004     short             Un bon bock             Un bon bock   \n",
       "4  tt0000005     short        Blacksmith Scene        Blacksmith Scene   \n",
       "\n",
       "  isAdult startYear endYear runtimeMinutes                    genres  \n",
       "0       0      1894    None              1         Documentary,Short  \n",
       "1       0      1892    None              5           Animation,Short  \n",
       "2       0      1892    None              4  Animation,Comedy,Romance  \n",
       "3       0      1892    None             12           Animation,Short  \n",
       "4       0      1893    None              1              Comedy,Short  "
      ]
     },
     "metadata": {},
     "execution_count": 46
    }
   ],
   "metadata": {}
  },
  {
   "cell_type": "code",
   "execution_count": 49,
   "source": [
    "df_select = df_titles.select('tconst', 'primaryTitle', 'runtimeMinutes')"
   ],
   "outputs": [],
   "metadata": {}
  },
  {
   "cell_type": "code",
   "execution_count": 51,
   "source": [
    "df_titles.limit(5).toPandas()"
   ],
   "outputs": [
    {
     "output_type": "execute_result",
     "data": {
      "text/html": [
       "<div>\n",
       "<style scoped>\n",
       "    .dataframe tbody tr th:only-of-type {\n",
       "        vertical-align: middle;\n",
       "    }\n",
       "\n",
       "    .dataframe tbody tr th {\n",
       "        vertical-align: top;\n",
       "    }\n",
       "\n",
       "    .dataframe thead th {\n",
       "        text-align: right;\n",
       "    }\n",
       "</style>\n",
       "<table border=\"1\" class=\"dataframe\">\n",
       "  <thead>\n",
       "    <tr style=\"text-align: right;\">\n",
       "      <th></th>\n",
       "      <th>tconst</th>\n",
       "      <th>titleType</th>\n",
       "      <th>primaryTitle</th>\n",
       "      <th>originalTitle</th>\n",
       "      <th>isAdult</th>\n",
       "      <th>startYear</th>\n",
       "      <th>endYear</th>\n",
       "      <th>runtimeMinutes</th>\n",
       "      <th>genres</th>\n",
       "    </tr>\n",
       "  </thead>\n",
       "  <tbody>\n",
       "    <tr>\n",
       "      <th>0</th>\n",
       "      <td>tt0000001</td>\n",
       "      <td>short</td>\n",
       "      <td>Carmencita</td>\n",
       "      <td>Carmencita</td>\n",
       "      <td>0</td>\n",
       "      <td>1894</td>\n",
       "      <td>\\N</td>\n",
       "      <td>1</td>\n",
       "      <td>Documentary,Short</td>\n",
       "    </tr>\n",
       "    <tr>\n",
       "      <th>1</th>\n",
       "      <td>tt0000002</td>\n",
       "      <td>short</td>\n",
       "      <td>Le clown et ses chiens</td>\n",
       "      <td>Le clown et ses chiens</td>\n",
       "      <td>0</td>\n",
       "      <td>1892</td>\n",
       "      <td>\\N</td>\n",
       "      <td>5</td>\n",
       "      <td>Animation,Short</td>\n",
       "    </tr>\n",
       "    <tr>\n",
       "      <th>2</th>\n",
       "      <td>tt0000003</td>\n",
       "      <td>short</td>\n",
       "      <td>Pauvre Pierrot</td>\n",
       "      <td>Pauvre Pierrot</td>\n",
       "      <td>0</td>\n",
       "      <td>1892</td>\n",
       "      <td>\\N</td>\n",
       "      <td>4</td>\n",
       "      <td>Animation,Comedy,Romance</td>\n",
       "    </tr>\n",
       "    <tr>\n",
       "      <th>3</th>\n",
       "      <td>tt0000004</td>\n",
       "      <td>short</td>\n",
       "      <td>Un bon bock</td>\n",
       "      <td>Un bon bock</td>\n",
       "      <td>0</td>\n",
       "      <td>1892</td>\n",
       "      <td>\\N</td>\n",
       "      <td>12</td>\n",
       "      <td>Animation,Short</td>\n",
       "    </tr>\n",
       "    <tr>\n",
       "      <th>4</th>\n",
       "      <td>tt0000005</td>\n",
       "      <td>short</td>\n",
       "      <td>Blacksmith Scene</td>\n",
       "      <td>Blacksmith Scene</td>\n",
       "      <td>0</td>\n",
       "      <td>1893</td>\n",
       "      <td>\\N</td>\n",
       "      <td>1</td>\n",
       "      <td>Comedy,Short</td>\n",
       "    </tr>\n",
       "  </tbody>\n",
       "</table>\n",
       "</div>"
      ],
      "text/plain": [
       "      tconst titleType            primaryTitle           originalTitle  \\\n",
       "0  tt0000001     short              Carmencita              Carmencita   \n",
       "1  tt0000002     short  Le clown et ses chiens  Le clown et ses chiens   \n",
       "2  tt0000003     short          Pauvre Pierrot          Pauvre Pierrot   \n",
       "3  tt0000004     short             Un bon bock             Un bon bock   \n",
       "4  tt0000005     short        Blacksmith Scene        Blacksmith Scene   \n",
       "\n",
       "  isAdult startYear endYear runtimeMinutes                    genres  \n",
       "0       0      1894      \\N              1         Documentary,Short  \n",
       "1       0      1892      \\N              5           Animation,Short  \n",
       "2       0      1892      \\N              4  Animation,Comedy,Romance  \n",
       "3       0      1892      \\N             12           Animation,Short  \n",
       "4       0      1893      \\N              1              Comedy,Short  "
      ]
     },
     "metadata": {},
     "execution_count": 51
    }
   ],
   "metadata": {}
  },
  {
   "cell_type": "code",
   "execution_count": 50,
   "source": [
    "df_select.limit(5).toPandas()"
   ],
   "outputs": [
    {
     "output_type": "execute_result",
     "data": {
      "text/html": [
       "<div>\n",
       "<style scoped>\n",
       "    .dataframe tbody tr th:only-of-type {\n",
       "        vertical-align: middle;\n",
       "    }\n",
       "\n",
       "    .dataframe tbody tr th {\n",
       "        vertical-align: top;\n",
       "    }\n",
       "\n",
       "    .dataframe thead th {\n",
       "        text-align: right;\n",
       "    }\n",
       "</style>\n",
       "<table border=\"1\" class=\"dataframe\">\n",
       "  <thead>\n",
       "    <tr style=\"text-align: right;\">\n",
       "      <th></th>\n",
       "      <th>tconst</th>\n",
       "      <th>primaryTitle</th>\n",
       "      <th>runtimeMinutes</th>\n",
       "    </tr>\n",
       "  </thead>\n",
       "  <tbody>\n",
       "    <tr>\n",
       "      <th>0</th>\n",
       "      <td>tt0000001</td>\n",
       "      <td>Carmencita</td>\n",
       "      <td>1</td>\n",
       "    </tr>\n",
       "    <tr>\n",
       "      <th>1</th>\n",
       "      <td>tt0000002</td>\n",
       "      <td>Le clown et ses chiens</td>\n",
       "      <td>5</td>\n",
       "    </tr>\n",
       "    <tr>\n",
       "      <th>2</th>\n",
       "      <td>tt0000003</td>\n",
       "      <td>Pauvre Pierrot</td>\n",
       "      <td>4</td>\n",
       "    </tr>\n",
       "    <tr>\n",
       "      <th>3</th>\n",
       "      <td>tt0000004</td>\n",
       "      <td>Un bon bock</td>\n",
       "      <td>12</td>\n",
       "    </tr>\n",
       "    <tr>\n",
       "      <th>4</th>\n",
       "      <td>tt0000005</td>\n",
       "      <td>Blacksmith Scene</td>\n",
       "      <td>1</td>\n",
       "    </tr>\n",
       "  </tbody>\n",
       "</table>\n",
       "</div>"
      ],
      "text/plain": [
       "      tconst            primaryTitle runtimeMinutes\n",
       "0  tt0000001              Carmencita              1\n",
       "1  tt0000002  Le clown et ses chiens              5\n",
       "2  tt0000003          Pauvre Pierrot              4\n",
       "3  tt0000004             Un bon bock             12\n",
       "4  tt0000005        Blacksmith Scene              1"
      ]
     },
     "metadata": {},
     "execution_count": 50
    }
   ],
   "metadata": {}
  },
  {
   "cell_type": "code",
   "execution_count": 38,
   "source": [
    "(\n",
    "    df_titles\n",
    "    .withColumnRenamed('primaryTitle', 'nome_filme')\n",
    "    .limit(5)\n",
    "    .toPandas()\n",
    ")"
   ],
   "outputs": [
    {
     "output_type": "execute_result",
     "data": {
      "text/html": [
       "<div>\n",
       "<style scoped>\n",
       "    .dataframe tbody tr th:only-of-type {\n",
       "        vertical-align: middle;\n",
       "    }\n",
       "\n",
       "    .dataframe tbody tr th {\n",
       "        vertical-align: top;\n",
       "    }\n",
       "\n",
       "    .dataframe thead th {\n",
       "        text-align: right;\n",
       "    }\n",
       "</style>\n",
       "<table border=\"1\" class=\"dataframe\">\n",
       "  <thead>\n",
       "    <tr style=\"text-align: right;\">\n",
       "      <th></th>\n",
       "      <th>tconst</th>\n",
       "      <th>titleType</th>\n",
       "      <th>nome_filme</th>\n",
       "      <th>originalTitle</th>\n",
       "      <th>isAdult</th>\n",
       "      <th>startYear</th>\n",
       "      <th>endYear</th>\n",
       "      <th>runtimeMinutes</th>\n",
       "      <th>genres</th>\n",
       "    </tr>\n",
       "  </thead>\n",
       "  <tbody>\n",
       "    <tr>\n",
       "      <th>0</th>\n",
       "      <td>tt0000001</td>\n",
       "      <td>short</td>\n",
       "      <td>Carmencita</td>\n",
       "      <td>Carmencita</td>\n",
       "      <td>0</td>\n",
       "      <td>1894</td>\n",
       "      <td>\\N</td>\n",
       "      <td>1</td>\n",
       "      <td>Documentary,Short</td>\n",
       "    </tr>\n",
       "    <tr>\n",
       "      <th>1</th>\n",
       "      <td>tt0000002</td>\n",
       "      <td>short</td>\n",
       "      <td>Le clown et ses chiens</td>\n",
       "      <td>Le clown et ses chiens</td>\n",
       "      <td>0</td>\n",
       "      <td>1892</td>\n",
       "      <td>\\N</td>\n",
       "      <td>5</td>\n",
       "      <td>Animation,Short</td>\n",
       "    </tr>\n",
       "    <tr>\n",
       "      <th>2</th>\n",
       "      <td>tt0000003</td>\n",
       "      <td>short</td>\n",
       "      <td>Pauvre Pierrot</td>\n",
       "      <td>Pauvre Pierrot</td>\n",
       "      <td>0</td>\n",
       "      <td>1892</td>\n",
       "      <td>\\N</td>\n",
       "      <td>4</td>\n",
       "      <td>Animation,Comedy,Romance</td>\n",
       "    </tr>\n",
       "    <tr>\n",
       "      <th>3</th>\n",
       "      <td>tt0000004</td>\n",
       "      <td>short</td>\n",
       "      <td>Un bon bock</td>\n",
       "      <td>Un bon bock</td>\n",
       "      <td>0</td>\n",
       "      <td>1892</td>\n",
       "      <td>\\N</td>\n",
       "      <td>12</td>\n",
       "      <td>Animation,Short</td>\n",
       "    </tr>\n",
       "    <tr>\n",
       "      <th>4</th>\n",
       "      <td>tt0000005</td>\n",
       "      <td>short</td>\n",
       "      <td>Blacksmith Scene</td>\n",
       "      <td>Blacksmith Scene</td>\n",
       "      <td>0</td>\n",
       "      <td>1893</td>\n",
       "      <td>\\N</td>\n",
       "      <td>1</td>\n",
       "      <td>Comedy,Short</td>\n",
       "    </tr>\n",
       "  </tbody>\n",
       "</table>\n",
       "</div>"
      ],
      "text/plain": [
       "      tconst titleType              nome_filme           originalTitle  \\\n",
       "0  tt0000001     short              Carmencita              Carmencita   \n",
       "1  tt0000002     short  Le clown et ses chiens  Le clown et ses chiens   \n",
       "2  tt0000003     short          Pauvre Pierrot          Pauvre Pierrot   \n",
       "3  tt0000004     short             Un bon bock             Un bon bock   \n",
       "4  tt0000005     short        Blacksmith Scene        Blacksmith Scene   \n",
       "\n",
       "  isAdult startYear endYear runtimeMinutes                    genres  \n",
       "0       0      1894      \\N              1         Documentary,Short  \n",
       "1       0      1892      \\N              5           Animation,Short  \n",
       "2       0      1892      \\N              4  Animation,Comedy,Romance  \n",
       "3       0      1892      \\N             12           Animation,Short  \n",
       "4       0      1893      \\N              1              Comedy,Short  "
      ]
     },
     "metadata": {},
     "execution_count": 38
    }
   ],
   "metadata": {
    "id": "_xyy0dtprVDN"
   }
  },
  {
   "cell_type": "code",
   "execution_count": 44,
   "source": [
    "df_renamed = df_titles\n",
    "for c in ['startYear', 'endYear']:\n",
    "    df_renamed = df_renamed.withColumnRenamed(c, c + '_data')\n",
    "\n",
    "df_renamed.limit(5).toPandas()"
   ],
   "outputs": [
    {
     "output_type": "execute_result",
     "data": {
      "text/html": [
       "<div>\n",
       "<style scoped>\n",
       "    .dataframe tbody tr th:only-of-type {\n",
       "        vertical-align: middle;\n",
       "    }\n",
       "\n",
       "    .dataframe tbody tr th {\n",
       "        vertical-align: top;\n",
       "    }\n",
       "\n",
       "    .dataframe thead th {\n",
       "        text-align: right;\n",
       "    }\n",
       "</style>\n",
       "<table border=\"1\" class=\"dataframe\">\n",
       "  <thead>\n",
       "    <tr style=\"text-align: right;\">\n",
       "      <th></th>\n",
       "      <th>tconst</th>\n",
       "      <th>titleType</th>\n",
       "      <th>primaryTitle</th>\n",
       "      <th>originalTitle</th>\n",
       "      <th>isAdult</th>\n",
       "      <th>startYear_data</th>\n",
       "      <th>endYear_data</th>\n",
       "      <th>runtimeMinutes</th>\n",
       "      <th>genres</th>\n",
       "    </tr>\n",
       "  </thead>\n",
       "  <tbody>\n",
       "    <tr>\n",
       "      <th>0</th>\n",
       "      <td>tt0000001</td>\n",
       "      <td>short</td>\n",
       "      <td>Carmencita</td>\n",
       "      <td>Carmencita</td>\n",
       "      <td>0</td>\n",
       "      <td>1894</td>\n",
       "      <td>\\N</td>\n",
       "      <td>1</td>\n",
       "      <td>Documentary,Short</td>\n",
       "    </tr>\n",
       "    <tr>\n",
       "      <th>1</th>\n",
       "      <td>tt0000002</td>\n",
       "      <td>short</td>\n",
       "      <td>Le clown et ses chiens</td>\n",
       "      <td>Le clown et ses chiens</td>\n",
       "      <td>0</td>\n",
       "      <td>1892</td>\n",
       "      <td>\\N</td>\n",
       "      <td>5</td>\n",
       "      <td>Animation,Short</td>\n",
       "    </tr>\n",
       "    <tr>\n",
       "      <th>2</th>\n",
       "      <td>tt0000003</td>\n",
       "      <td>short</td>\n",
       "      <td>Pauvre Pierrot</td>\n",
       "      <td>Pauvre Pierrot</td>\n",
       "      <td>0</td>\n",
       "      <td>1892</td>\n",
       "      <td>\\N</td>\n",
       "      <td>4</td>\n",
       "      <td>Animation,Comedy,Romance</td>\n",
       "    </tr>\n",
       "    <tr>\n",
       "      <th>3</th>\n",
       "      <td>tt0000004</td>\n",
       "      <td>short</td>\n",
       "      <td>Un bon bock</td>\n",
       "      <td>Un bon bock</td>\n",
       "      <td>0</td>\n",
       "      <td>1892</td>\n",
       "      <td>\\N</td>\n",
       "      <td>12</td>\n",
       "      <td>Animation,Short</td>\n",
       "    </tr>\n",
       "    <tr>\n",
       "      <th>4</th>\n",
       "      <td>tt0000005</td>\n",
       "      <td>short</td>\n",
       "      <td>Blacksmith Scene</td>\n",
       "      <td>Blacksmith Scene</td>\n",
       "      <td>0</td>\n",
       "      <td>1893</td>\n",
       "      <td>\\N</td>\n",
       "      <td>1</td>\n",
       "      <td>Comedy,Short</td>\n",
       "    </tr>\n",
       "  </tbody>\n",
       "</table>\n",
       "</div>"
      ],
      "text/plain": [
       "      tconst titleType            primaryTitle           originalTitle  \\\n",
       "0  tt0000001     short              Carmencita              Carmencita   \n",
       "1  tt0000002     short  Le clown et ses chiens  Le clown et ses chiens   \n",
       "2  tt0000003     short          Pauvre Pierrot          Pauvre Pierrot   \n",
       "3  tt0000004     short             Un bon bock             Un bon bock   \n",
       "4  tt0000005     short        Blacksmith Scene        Blacksmith Scene   \n",
       "\n",
       "  isAdult startYear_data endYear_data runtimeMinutes                    genres  \n",
       "0       0           1894           \\N              1         Documentary,Short  \n",
       "1       0           1892           \\N              5           Animation,Short  \n",
       "2       0           1892           \\N              4  Animation,Comedy,Romance  \n",
       "3       0           1892           \\N             12           Animation,Short  \n",
       "4       0           1893           \\N              1              Comedy,Short  "
      ]
     },
     "metadata": {},
     "execution_count": 44
    }
   ],
   "metadata": {}
  },
  {
   "cell_type": "markdown",
   "source": [
    "### Criando e Alterando Colunas"
   ],
   "metadata": {
    "id": "pKIqUor1wars"
   }
  },
  {
   "cell_type": "markdown",
   "source": [
    "Para criar ou alterar colunas, é utilizada a função `withColumn()`, da seguinte forma:\n",
    "\n",
    "```\n",
    "df.withColumn(\"nome_da_coluna\", {expressão geradora de coluna})\n",
    "```"
   ],
   "metadata": {
    "id": "Jz8P4W7Rh5BE"
   }
  },
  {
   "cell_type": "code",
   "execution_count": null,
   "source": [
    "from pyspark.sql.functions import upper\n",
    "\n",
    "(\n",
    "    df_titles\n",
    "    .select('tconst', 'primaryTitle', 'runtimeMinutes', )\n",
    "    .withColumn(\"primaryTitle_2\", upper('primaryTitle'))\n",
    "    .show(5)\n",
    ")"
   ],
   "outputs": [],
   "metadata": {
    "id": "L1vsXYn7xScI"
   }
  },
  {
   "cell_type": "markdown",
   "source": [
    "#### Criando colunas a partir de constantes"
   ],
   "metadata": {}
  },
  {
   "cell_type": "code",
   "execution_count": null,
   "source": [
    "from pyspark.sql.functions import lit\n",
    "\n",
    "(\n",
    "    df_titles\n",
    "    .select('tconst', 'primaryTitle', 'runtimeMinutes', )\n",
    "    .withColumn(\"pais\", lit('Brasil'))\n",
    "    .show(5)\n",
    ")"
   ],
   "outputs": [],
   "metadata": {
    "id": "thEM8FvOwcce"
   }
  },
  {
   "cell_type": "markdown",
   "source": [
    "#### Criando colunas condicionais"
   ],
   "metadata": {}
  },
  {
   "cell_type": "code",
   "execution_count": null,
   "source": [
    "from pyspark.sql.functions import when, expr\n",
    "\n",
    "predicado = \"\"\"\n",
    "\n",
    "CASE WHEN runTimeMinutes <= 60 THEN 'curto'\n",
    "     WHEN runTimeMinutes > 60 AND runTimeMinutes < 120 THEN 'normal'\n",
    "     WHEN runTimeMinutes >= 120 THEN 'longo'\n",
    "     WHEN runTimeMinutes IS NULL THEN 'nulo'\n",
    "     ELSE 'Erro'\n",
    "END\n",
    "\n",
    "\"\"\"\n",
    "\n",
    "(\n",
    "    df_titles\n",
    "    .select('tconst', 'primaryTitle', 'runtimeMinutes', )\n",
    "    .withColumn(\"runtimeMinutes\", col('runTimeMinutes').cast('int'))\n",
    "    .withColumn(\"categoria_runtime\", expr(predicado))\n",
    "    .filter('runTimeMinutes > 60')\n",
    "    .show(25)\n",
    ")"
   ],
   "outputs": [],
   "metadata": {}
  },
  {
   "cell_type": "markdown",
   "source": [
    "### Agregação e Agrupamento"
   ],
   "metadata": {
    "id": "U4Wb7b84S-Hx"
   }
  },
  {
   "cell_type": "markdown",
   "source": [
    "O agrupamento dos DataFrames é feito por meio da função **`groupby()`**. Essa função deve ser sucedida pela função de agregação `agg()`, de pivotação `pivot()` ou `count()`. \n",
    "\n",
    "---\n",
    "\n",
    "A função **`agg()`** aplica uma função de agregação no DataFrame. Se precedida por `groupby()`, realiza a agregação dentro dos grupos esabelecidos.\n",
    "Algumas das funções de agregação mais comuns:\n",
    "* `sum()`: retorna a soma os valores da coluna\n",
    "* `sumDistinct()`: retorna a soma os valores distintos da coluna\n",
    "* `max() / min()`: retorna o mínimo e o máximo da coluna, respectivamente\n",
    "* `avg() / mean()`: retorna a média dos valores da coluna\n",
    "* `percentile_approx()`: retorna o percentil da coluna, comaproximação. Para trazer a mediana exata, usar: `percentile_approx(f.col('column'), 0.5, lit(1000000))`\n",
    "* `stddev()`: retorna o desvio padrão dos valores da coluna\n",
    "* `count()`: retorna a contagem de linhas\n",
    "* `countDistinct()`: retorna a contagem de valores distintos da coluna\n",
    "* `first() / last()`: retorna o primeiro e o último valor da coluna no agrupamento, respectivamente. Interessante de ser utilizada em conjunto com o argumento `ignoreNulls=True`.\n",
    "* `collect_list()`: retorna os valores do agrupamento em uma lista, com duplicações\n",
    "* `collect_set()`: retorna os valores do agrupamento em uma lista, sem duplicações (desordenado)\n",
    "\n",
    "**Obs**: O spark ignora os valores nulos para calcular as agregações, com exceção da função `count()`.\n",
    "\n",
    "---\n",
    "\n",
    "A função **`pivot`** é utilizada para passar valores de uma linha para as colunas, realizando uma agregação. Deve ser sucedido por uma função de agregação utilizando `agg()`. Pode utilizar qualquer uma das funções de agregação anteriores.\n",
    "\n"
   ],
   "metadata": {
    "id": "DMfZyeyqKixT"
   }
  },
  {
   "cell_type": "code",
   "execution_count": null,
   "source": [
    "df_titles_subset = (\n",
    "    df_titles\n",
    "    .filter(\"cast(startYear as int) >= 2000\")\n",
    "    .withColumn('genre', f.split('genres', ',').getItem(0))\n",
    ")"
   ],
   "outputs": [],
   "metadata": {}
  },
  {
   "cell_type": "code",
   "execution_count": null,
   "source": [
    "df_titles_subset.limit(5).toPandas()"
   ],
   "outputs": [],
   "metadata": {}
  },
  {
   "cell_type": "code",
   "execution_count": null,
   "source": [
    "(\n",
    "    df_titles_subset\n",
    "    .agg(f.countDistinct('genre').alias('distinct_genres'),)\n",
    "    .toPandas()\n",
    ")"
   ],
   "outputs": [],
   "metadata": {
    "id": "KW3DbowFwQZW"
   }
  },
  {
   "cell_type": "code",
   "execution_count": null,
   "source": [
    "(\n",
    "    df_titles_subset\n",
    "    .withColumn('runtimeMinutes', f.col('runtimeMinutes').cast('int'))\n",
    "    .agg(f.sum('runtimeMinutes').alias('total_runtimeMinutes'),\n",
    "         f.mean('runtimeMinutes').alias('mean_runtimeMinutes'),\n",
    "         f.min('runtimeMinutes').alias('min_runtimeMinutes'),\n",
    "         f.max('runtimeMinutes').alias('max_runtimeMinutes'),\n",
    "         f.percentile_approx('runtimeMinutes', 0.5, f.lit(10000000)).alias('median_runtimeMinutes'),\n",
    "         f.stddev('runtimeMinutes').alias('std_runtimeMinutes'),\n",
    "        )\n",
    "    .toPandas()\n",
    ")"
   ],
   "outputs": [],
   "metadata": {
    "id": "KW3DbowFwQZW"
   }
  },
  {
   "cell_type": "code",
   "execution_count": null,
   "source": [
    "(\n",
    "    df_titles_subset\n",
    "    .withColumn('runtimeMinutes', f.col('runtimeMinutes').cast('int'))\n",
    "    .select('runtimeMinutes')\n",
    "    .describe()\n",
    "    .toPandas()\n",
    ")"
   ],
   "outputs": [],
   "metadata": {}
  },
  {
   "cell_type": "markdown",
   "source": [
    "#### Agrupamento"
   ],
   "metadata": {
    "id": "csmNQEBouFsh"
   }
  },
  {
   "cell_type": "code",
   "execution_count": null,
   "source": [
    "df_titles_subset.limit(5).toPandas()"
   ],
   "outputs": [],
   "metadata": {}
  },
  {
   "cell_type": "code",
   "execution_count": null,
   "source": [
    "(\n",
    "    df_titles_subset\n",
    "    .groupby('genre', 'startYear')\n",
    "    .agg(f.mean('runtimeMinutes').alias('mean_runtimeMinutes'),)\n",
    "    .orderBy('startYear', f.col('mean_runtimeMinutes').desc())\n",
    "    .filter('startYear = 2021')\n",
    "    .toPandas()\n",
    ")"
   ],
   "outputs": [],
   "metadata": {
    "id": "yn6_vBrtHHuP"
   }
  },
  {
   "cell_type": "code",
   "execution_count": null,
   "source": [
    "(\n",
    "    df_titles_subset\n",
    "    .groupby('genre')\n",
    "    .agg(f.collect_set(f.col('titleType')).alias('lista_tipos_titulo'),\n",
    "         f.countDistinct(f.col('titleType')).alias('n_distinct')\n",
    "        )\n",
    "    .withColumn('tipos_filmes', f.explode(f.col('lista_tipos_titulo')))\n",
    "    .select('genre', 'tipos_filmes')\n",
    "    .toPandas()\n",
    ")"
   ],
   "outputs": [],
   "metadata": {
    "id": "6E-pU_LAQw5q"
   }
  },
  {
   "cell_type": "markdown",
   "source": [
    "#### Pivotação"
   ],
   "metadata": {
    "id": "lX3DUxTlw8KU"
   }
  },
  {
   "cell_type": "code",
   "execution_count": null,
   "source": [
    "df_titles_subset.limit(5).toPandas()"
   ],
   "outputs": [],
   "metadata": {
    "id": "q-_CbaA3h5BN"
   }
  },
  {
   "cell_type": "code",
   "execution_count": null,
   "source": [
    "(\n",
    "    df_titles_subset\n",
    "    .drop('genre')\n",
    "    .withColumn('genres', f.explode(f.split(f.col('genres'), ',')))\n",
    "    .groupby('startYear')\n",
    "    .pivot('genres')\n",
    "    .agg(f.mean('runtimeMinutes'))\n",
    "    .na.fill(0)\n",
    "    .orderBy('startYear')\n",
    "    .limit(5)\n",
    "    .toPandas()\n",
    ")"
   ],
   "outputs": [],
   "metadata": {
    "id": "WZKGSakRx2UU"
   }
  },
  {
   "cell_type": "markdown",
   "source": [
    "### Window Functions"
   ],
   "metadata": {
    "id": "FKLCjMJWTHGp"
   }
  },
  {
   "cell_type": "markdown",
   "source": [
    "Window functions são funções que realizam cálculos similares à uma agregação, mas que não resultam em um DataFrame agregado. Ao invés disso, os resultados são colocados em uma nova coluna, segundo a partição (ou agrupamento) especificado. \n",
    "Exemplos mais comuns:\n",
    "* `row_number()`\n",
    "* `rank() / dense_rank() / percent_rank()`\n",
    "* `lag()`\n",
    "* `cume_dist()`\n",
    "* `collect_list() / collect_set()`\n",
    "* Demais funções de agregação, com exceção de `countDistinct()`\n",
    "\n",
    "Para usar as funções dessa forma, devemos criar uma janela (window) da seguinte forma:\n",
    "\n",
    "```{python}\n",
    "from pyspark.sql.window import Window\n",
    "w = Window.partitionBy({columns}).orderBy({columns}).rowsBetween({lower}, {upper})\n",
    "```\n",
    "\n",
    "* **`partitionBy()`**: agrupamento em que os cálculos serão realizados. É análogo ao `groupBy()`.\n",
    "* **`orderBy`**: algumas funções como `row_number()` e `lag()` dependem da ordenação das linhas do agrupamento. Essa função é usada para especificar essa ordem.\n",
    "* **`rowsBetween()`**: esse método é usado para especificar janelas deslizantes. A partir dele é possível definir um intervalo de linhas, relativas à linha atual, em que a função vai ser aplicada. Caso isso não seja especificado, as operações são realizadas em todo o grupo. Muito útil para construir **médias móveis**. Os seguintes objetos ajudam na constrção desse intervalo:\n",
    "  * `Window.currentRow`: define a linha para qual o valor está sendo calculado como um dos limites de cálculo\n",
    "  * `Window.unboundedPreceding`: define que não há limites para as linhas anteriores à linha para qual o valor está sendo calculado, isto é, a função irá considerar todas as linhas do grupo que já passaram. Deve ser usado no primeiro argumento (start).\n",
    "  * `Window.unboundedFollowing`: define que não há limites para as linhas posteriores à linha para qual o valor está sendo calculado, isto é, a função irá considerar todas as linhas do grupo que ainda não passaram. Deve ser usado no segundo argumento (end).\n",
    "\n",
    "Depois disso, basta utilizar a função `over()` para indicar que aquela função deve ser realizada na janela.  Exemplo:\n",
    "```\n",
    "df.withColumn('rn', f.row_number().over(w))\n",
    "```\n"
   ],
   "metadata": {
    "id": "gv-ogcIXzBX0"
   }
  },
  {
   "cell_type": "code",
   "execution_count": null,
   "source": [
    "from pyspark.sql.window import Window"
   ],
   "outputs": [],
   "metadata": {
    "id": "RYyCyNfF4uG0"
   }
  },
  {
   "cell_type": "code",
   "execution_count": null,
   "source": [
    "df_titles_subset.count()"
   ],
   "outputs": [],
   "metadata": {}
  },
  {
   "cell_type": "code",
   "execution_count": null,
   "source": [
    "w = Window.partitionBy('genre').orderBy('startYear')\n",
    "(\n",
    "    df_titles_subset\n",
    "    .withColumn('genre', f.split('genres', ',').getItem(0))\n",
    "    .withColumn('startYear', f.col('startYear').cast('int'))\n",
    "    .filter('startYear >= 2021')\n",
    "    .withColumn('rn', f.row_number().over(w))\n",
    "    .limit(25)\n",
    "    .toPandas()\n",
    ")"
   ],
   "outputs": [],
   "metadata": {
    "id": "WdiYPJgA3n5B",
    "scrolled": true
   }
  },
  {
   "cell_type": "code",
   "execution_count": null,
   "source": [
    "w = Window.partitionBy('titleType', 'startYear')\n",
    "(\n",
    "    df_titles_subset\n",
    "    .withColumn('genre', f.split('genres', ',').getItem(0))\n",
    "    .withColumn('runtimeMinutes', f.col('runtimeMinutes').cast('int'))\n",
    "    .withColumn('total_minutes', f.sum(f.col('runtimeMinutes')).over(w))\n",
    "    .withColumn('mean_minutes', f.mean(f.col('runtimeMinutes')).over(w))\n",
    "    .withColumn('relative_minutes', f.col('runtimeMinutes') / f.col('total_minutes'))\n",
    "    .filter('runtimeMinutes is not null')\n",
    "    .limit(5)\n",
    "    .toPandas()\n",
    ")"
   ],
   "outputs": [],
   "metadata": {
    "id": "aOVhOVsWh5BP"
   }
  },
  {
   "cell_type": "code",
   "execution_count": null,
   "source": [
    "w = Window.partitionBy('titleType').orderBy('startYear').rowsBetween(-2, Window.currentRow)\n",
    "(\n",
    "    df_titles_subset\n",
    "    .withColumn('runtimeMinutes', f.col('runtimeMinutes').cast('int'))\n",
    "    .groupby('titleType', 'startYear')\n",
    "    .agg(f.mean('runtimeMinutes').alias('media_minutos'))\n",
    "#     .orderBy('titleType', 'startYear')\n",
    "#     .withColumn('meadia_movel_3anos', f.round(f.mean('media_minutos').over(w), 3))\n",
    "    .limit(15)\n",
    "    .toPandas()\n",
    ")"
   ],
   "outputs": [],
   "metadata": {
    "scrolled": false
   }
  },
  {
   "cell_type": "code",
   "execution_count": null,
   "source": [
    "round((49.007634 + 50.358881 + 52.182771)/3, 3) == 50.516"
   ],
   "outputs": [],
   "metadata": {}
  },
  {
   "cell_type": "code",
   "execution_count": null,
   "source": [
    "round((49.186983 + 50.358881 + 52.182771 + 49.007634 + 55.584795)/5, 3) == 51.264"
   ],
   "outputs": [],
   "metadata": {}
  },
  {
   "cell_type": "markdown",
   "source": [
    "### Joins"
   ],
   "metadata": {
    "id": "cxUX_PheS6by"
   }
  },
  {
   "cell_type": "markdown",
   "source": [
    "Os joins no pyspark são especificados pela função `join()`, da seguinte forma:\n",
    "\n",
    "```\n",
    "df1.join(df2, {key_columns}, {join_type})\n",
    "```\n",
    "\n",
    "* `key_columns`: colunas que vão ser utilizadas para fazer a junção das tabelas. Pode ser especificada como\n",
    "    * Um único string -> só uma coluna é chave, mesmos nomes nas duas tabelas\n",
    "    * Uma lista de string ou de colunas (`col()`) -> mais de uma coluna é chave, mesmos nomes nas duas tabelas\n",
    "    * Com nomes diferentes, é necessário fazer uma especificação do tipo: `f.col(column1) == f.col(column2)`. Caso existam mais de uma coluna como chave, essas especificações devem ser colocadas em uma lista.\n",
    "* `join_type`: o tipo de join a ser realizado. As opções são:\n",
    "    * `inner (default)`: INNER JOIN do SQL\n",
    "    * `outer / full / fullouter / full_outer`: : FULL OUTER JOIN do SQL\n",
    "    * `left / leftouter / left_outer`: : LEFT JOIN do SQL\n",
    "    * `right / rightouter / right_outer`: : RIGHT JOIN do SQL\n",
    "    * `semi / leftsemi / left_semi`: realiza um LEFT JOIN do SQL e retorna somente as colunas do DataFrame da esquerda que também estão no DataFrame da Direita\n",
    "    * `anti / leftanti / left_anti`: realiza um LEFT JOIN do SQL e retorna somente as colunas do DataFrame da esquerda que não estão no DataFrame da Direita"
   ],
   "metadata": {
    "id": "RVfchwYIh5BR"
   }
  },
  {
   "cell_type": "code",
   "execution_count": null,
   "source": [
    "df_ratings.limit(5).toPandas()"
   ],
   "outputs": [],
   "metadata": {}
  },
  {
   "cell_type": "code",
   "execution_count": null,
   "source": [
    "df_titles.limit(5).toPandas()"
   ],
   "outputs": [],
   "metadata": {
    "scrolled": true
   }
  },
  {
   "cell_type": "code",
   "execution_count": null,
   "source": [
    "df_ratings.count()"
   ],
   "outputs": [],
   "metadata": {}
  },
  {
   "cell_type": "code",
   "execution_count": null,
   "source": [
    "df_titles.count()"
   ],
   "outputs": [],
   "metadata": {}
  },
  {
   "cell_type": "code",
   "execution_count": null,
   "source": [
    "(\n",
    "    df_titles\n",
    "    .join(df_ratings, 'tconst')\n",
    "    .limit(5)\n",
    "    .toPandas()\n",
    ")"
   ],
   "outputs": [],
   "metadata": {
    "id": "dQsKy0XS5Amr"
   }
  },
  {
   "cell_type": "code",
   "execution_count": null,
   "source": [
    "(\n",
    "    df_titles\n",
    "    .withColumnRenamed('tconst', 'id_title')\n",
    "#     .withColumnRenamed('genres', 'averageRating')\n",
    "    .join(df_ratings, f.col('tconst') == f.col('id_title'))\n",
    "#     .withColumn('averageRating', f.expr('averageRating + 1'))\n",
    "    .limit(5)\n",
    "    .toPandas()\n",
    ")"
   ],
   "outputs": [],
   "metadata": {
    "id": "pZHp7ZFih5BR"
   }
  },
  {
   "cell_type": "markdown",
   "source": [
    "#### Utilizando semi e anti join"
   ],
   "metadata": {
    "id": "VYtCh83Gh5BS"
   }
  },
  {
   "cell_type": "code",
   "execution_count": null,
   "source": [
    "(\n",
    "    df_titles\n",
    "    .join(df_ratings, 'tconst', 'semi')\n",
    "    .count()\n",
    ")"
   ],
   "outputs": [],
   "metadata": {
    "id": "2afX5xQwh5BT"
   }
  },
  {
   "cell_type": "code",
   "execution_count": null,
   "source": [
    "(\n",
    "    df_titles\n",
    "    .join(df_ratings, 'tconst', 'anti')\n",
    "    .count()\n",
    ")"
   ],
   "outputs": [],
   "metadata": {
    "id": "X61Risrkh5BT"
   }
  },
  {
   "cell_type": "code",
   "execution_count": null,
   "source": [
    "6961705 + 1174232 == df_titles.count()"
   ],
   "outputs": [],
   "metadata": {}
  },
  {
   "cell_type": "markdown",
   "source": [
    "### Union"
   ],
   "metadata": {
    "id": "pAS_FXTKS8Ex"
   }
  },
  {
   "cell_type": "markdown",
   "source": [
    "Existem três formas de unir DataFrames no pyspark:\n",
    "* `union() / unionAll()`: empilha os DataFrames, preservando linhas duplicadas. As colunas são unidas por posição, e por isso a ordem delas deve ser a mesma entre os dois DFs.\n",
    "* `unionByName()`: empilha os DataFrames, preservando linhas duplicadas. As colunas são unidas por nome, e por tanto não precisam estar ordenadas da mesma forma"
   ],
   "metadata": {
    "id": "_JjCbIoyh5BU"
   }
  },
  {
   "cell_type": "code",
   "execution_count": null,
   "source": [
    "df_titles.count()"
   ],
   "outputs": [],
   "metadata": {}
  },
  {
   "cell_type": "code",
   "execution_count": null,
   "source": [
    "df1 = df_titles.sample(fraction = 0.5)\n",
    "df2 = df_titles.join(df1, ['tconst'], 'anti')"
   ],
   "outputs": [],
   "metadata": {}
  },
  {
   "cell_type": "code",
   "execution_count": null,
   "source": [
    "df1.count()"
   ],
   "outputs": [],
   "metadata": {
    "id": "uAYz7Nolh5BU",
    "scrolled": true
   }
  },
  {
   "cell_type": "code",
   "execution_count": null,
   "source": [
    "df2.count()"
   ],
   "outputs": [],
   "metadata": {
    "id": "uAYz7Nolh5BU"
   }
  },
  {
   "cell_type": "code",
   "execution_count": null,
   "source": [
    "df1.union(df2).count()"
   ],
   "outputs": [],
   "metadata": {
    "id": "_90-ZttQh5BU"
   }
  },
  {
   "cell_type": "code",
   "execution_count": null,
   "source": [
    "df3 = df_titles.sample(fraction = 0.05)"
   ],
   "outputs": [],
   "metadata": {}
  },
  {
   "cell_type": "code",
   "execution_count": null,
   "source": [
    "df3.count()"
   ],
   "outputs": [],
   "metadata": {}
  },
  {
   "cell_type": "code",
   "execution_count": null,
   "source": [
    "df3.union(df3).count()"
   ],
   "outputs": [],
   "metadata": {}
  },
  {
   "cell_type": "code",
   "execution_count": null,
   "source": [
    "df3.union(df3).distinct().count()"
   ],
   "outputs": [],
   "metadata": {
    "id": "IUipVH9Uh5BV"
   }
  },
  {
   "cell_type": "code",
   "execution_count": null,
   "source": [
    "df2 = df2.select(df2.columns[::-1])"
   ],
   "outputs": [],
   "metadata": {
    "id": "Ud-l1FpHh5BV"
   }
  },
  {
   "cell_type": "code",
   "execution_count": null,
   "source": [
    "df1.limit(5).toPandas()"
   ],
   "outputs": [],
   "metadata": {}
  },
  {
   "cell_type": "code",
   "execution_count": null,
   "source": [
    "df2.limit(5).toPandas()"
   ],
   "outputs": [],
   "metadata": {}
  },
  {
   "cell_type": "code",
   "execution_count": null,
   "source": [
    "df1.union(df2).filter('genres rlike \"[0-9]\"').limit(5).toPandas()"
   ],
   "outputs": [],
   "metadata": {
    "id": "ZB9UsKlQh5BV"
   }
  },
  {
   "cell_type": "code",
   "execution_count": null,
   "source": [
    "df1.unionByName(df2).filter('genres rlike \"[0-9]\"').limit(5).toPandas()"
   ],
   "outputs": [],
   "metadata": {
    "id": "gDiuLfsXh5BW"
   }
  },
  {
   "cell_type": "markdown",
   "source": [
    "### User Defined Functions (UDFs)"
   ],
   "metadata": {
    "id": "KPQOFMX1TLrU"
   }
  },
  {
   "cell_type": "markdown",
   "source": [
    "Em algumas situações é necessário criar/alterar uma coluna utilizando uma operação não implementada na biblioteca padrão. Para isso, é possível utilzar funções definidas pelo usuário (UDFs) por meio da função `udf()`.\n",
    "\n",
    "**Importante**: As udfs não são otimizadas para serem executadas em paralelo, e por isso podem representar um gargalo na na aplicação."
   ],
   "metadata": {
    "id": "x9ZJh9UfAKqv"
   }
  },
  {
   "cell_type": "code",
   "execution_count": 52,
   "source": [
    "from unidecode import unidecode\n",
    "from pyspark.sql.types import StringType"
   ],
   "outputs": [],
   "metadata": {}
  },
  {
   "cell_type": "code",
   "execution_count": 53,
   "source": [
    "unidecode('àáâçéõü')"
   ],
   "outputs": [
    {
     "output_type": "execute_result",
     "data": {
      "text/plain": [
       "'aaaceou'"
      ]
     },
     "metadata": {},
     "execution_count": 53
    }
   ],
   "metadata": {
    "id": "CFp-RvZMBFSO"
   }
  },
  {
   "cell_type": "code",
   "execution_count": 55,
   "source": [
    "(\n",
    "    df_titles\n",
    "    .filter(f.col('primaryTitle').rlike('à|á|â|ç|é|õ|ü'))\n",
    "    .withColumn('cleaned_string', unidecode(f.col('primaryTitle')))\n",
    "    .select('primaryTitle', 'cleaned_string')\n",
    "    .limit(5)\n",
    "    .toPandas()\n",
    ")"
   ],
   "outputs": [
    {
     "output_type": "error",
     "ename": "TypeError",
     "evalue": "'Column' object is not callable",
     "traceback": [
      "\u001b[1;31m---------------------------------------------------------------------------\u001b[0m",
      "\u001b[1;31mTypeError\u001b[0m                                 Traceback (most recent call last)",
      "\u001b[1;32m<ipython-input-55-966fb452bea0>\u001b[0m in \u001b[0;36m<module>\u001b[1;34m\u001b[0m\n\u001b[0;32m      2\u001b[0m     \u001b[0mdf_titles\u001b[0m\u001b[1;33m\u001b[0m\u001b[1;33m\u001b[0m\u001b[0m\n\u001b[0;32m      3\u001b[0m     \u001b[1;33m.\u001b[0m\u001b[0mfilter\u001b[0m\u001b[1;33m(\u001b[0m\u001b[0mf\u001b[0m\u001b[1;33m.\u001b[0m\u001b[0mcol\u001b[0m\u001b[1;33m(\u001b[0m\u001b[1;34m'primaryTitle'\u001b[0m\u001b[1;33m)\u001b[0m\u001b[1;33m.\u001b[0m\u001b[0mrlike\u001b[0m\u001b[1;33m(\u001b[0m\u001b[1;34m'à|á|â|ç|é|õ|ü'\u001b[0m\u001b[1;33m)\u001b[0m\u001b[1;33m)\u001b[0m\u001b[1;33m\u001b[0m\u001b[1;33m\u001b[0m\u001b[0m\n\u001b[1;32m----> 4\u001b[1;33m     \u001b[1;33m.\u001b[0m\u001b[0mwithColumn\u001b[0m\u001b[1;33m(\u001b[0m\u001b[1;34m'cleaned_string'\u001b[0m\u001b[1;33m,\u001b[0m \u001b[0munidecode\u001b[0m\u001b[1;33m(\u001b[0m\u001b[0mf\u001b[0m\u001b[1;33m.\u001b[0m\u001b[0mcol\u001b[0m\u001b[1;33m(\u001b[0m\u001b[1;34m'primaryTitle'\u001b[0m\u001b[1;33m)\u001b[0m\u001b[1;33m)\u001b[0m\u001b[1;33m)\u001b[0m\u001b[1;33m\u001b[0m\u001b[1;33m\u001b[0m\u001b[0m\n\u001b[0m\u001b[0;32m      5\u001b[0m \u001b[1;31m#     .select('primaryTitle', 'cleaned_string')\u001b[0m\u001b[1;33m\u001b[0m\u001b[1;33m\u001b[0m\u001b[1;33m\u001b[0m\u001b[0m\n\u001b[0;32m      6\u001b[0m     \u001b[1;33m.\u001b[0m\u001b[0mlimit\u001b[0m\u001b[1;33m(\u001b[0m\u001b[1;36m5\u001b[0m\u001b[1;33m)\u001b[0m\u001b[1;33m\u001b[0m\u001b[1;33m\u001b[0m\u001b[0m\n",
      "\u001b[1;32mC:\\anaconda\\lib\\site-packages\\unidecode\\__init__.py\u001b[0m in \u001b[0;36munidecode_expect_ascii\u001b[1;34m(string, errors, replace_str)\u001b[0m\n\u001b[0;32m     64\u001b[0m     \u001b[0m_warn_if_not_unicode\u001b[0m\u001b[1;33m(\u001b[0m\u001b[0mstring\u001b[0m\u001b[1;33m)\u001b[0m\u001b[1;33m\u001b[0m\u001b[1;33m\u001b[0m\u001b[0m\n\u001b[0;32m     65\u001b[0m     \u001b[1;32mtry\u001b[0m\u001b[1;33m:\u001b[0m\u001b[1;33m\u001b[0m\u001b[1;33m\u001b[0m\u001b[0m\n\u001b[1;32m---> 66\u001b[1;33m         \u001b[0mbytestring\u001b[0m \u001b[1;33m=\u001b[0m \u001b[0mstring\u001b[0m\u001b[1;33m.\u001b[0m\u001b[0mencode\u001b[0m\u001b[1;33m(\u001b[0m\u001b[1;34m'ASCII'\u001b[0m\u001b[1;33m)\u001b[0m\u001b[1;33m\u001b[0m\u001b[1;33m\u001b[0m\u001b[0m\n\u001b[0m\u001b[0;32m     67\u001b[0m     \u001b[1;32mexcept\u001b[0m \u001b[0mUnicodeEncodeError\u001b[0m\u001b[1;33m:\u001b[0m\u001b[1;33m\u001b[0m\u001b[1;33m\u001b[0m\u001b[0m\n\u001b[0;32m     68\u001b[0m         \u001b[1;32mpass\u001b[0m\u001b[1;33m\u001b[0m\u001b[1;33m\u001b[0m\u001b[0m\n",
      "\u001b[1;31mTypeError\u001b[0m: 'Column' object is not callable"
     ]
    }
   ],
   "metadata": {
    "id": "D5-VNaSoDG5l"
   }
  },
  {
   "cell_type": "code",
   "execution_count": null,
   "source": [
    "def unidecode_function(string):\n",
    "    if not string:\n",
    "        return None\n",
    "    else:\n",
    "        return unidecode(string)\n",
    "\n",
    "unidecode_udf = f.udf(unidecode_function, returnType=StringType())"
   ],
   "outputs": [],
   "metadata": {
    "id": "pmMoX5nCADSX"
   }
  },
  {
   "cell_type": "code",
   "execution_count": null,
   "source": [
    "(\n",
    "    df_titles\n",
    "    .filter(f.col('primaryTitle').rlike('à|á|â|ç|é|õ|ü'))\n",
    "    .withColumn('cleaned_string', unidecode_udf(f.col('primaryTitle')))\n",
    "    .select('primaryTitle', 'cleaned_string')\n",
    "    .limit(5)\n",
    "    .toPandas()\n",
    ")"
   ],
   "outputs": [],
   "metadata": {
    "id": "D5-VNaSoDG5l"
   }
  },
  {
   "cell_type": "code",
   "execution_count": null,
   "source": [
    "del unidecode_udf"
   ],
   "outputs": [],
   "metadata": {
    "id": "qHQIJLTQDyjG"
   }
  },
  {
   "cell_type": "code",
   "execution_count": null,
   "source": [
    "from pyspark.sql.types import DoubleType"
   ],
   "outputs": [],
   "metadata": {}
  },
  {
   "cell_type": "code",
   "execution_count": 56,
   "source": [
    "@f.udf(returnType=t.StringType())\n",
    "def unidecode_udf(string):\n",
    "    if not string:\n",
    "        return None\n",
    "    else:\n",
    "        return unidecode(string)"
   ],
   "outputs": [],
   "metadata": {
    "id": "ClKnhsZDDrRJ"
   }
  },
  {
   "cell_type": "code",
   "execution_count": 57,
   "source": [
    "(\n",
    "    df_titles\n",
    "    .filter(f.col('primaryTitle').rlike('à|á|â|ç|é|õ|ü'))\n",
    "    .withColumn('cleaned_string', unidecode_udf(f.expr('primaryTitle')))\n",
    "    .select('primaryTitle', 'cleaned_string')\n",
    "    .limit(5)\n",
    "    .toPandas()\n",
    ")"
   ],
   "outputs": [
    {
     "output_type": "execute_result",
     "data": {
      "text/html": [
       "<div>\n",
       "<style scoped>\n",
       "    .dataframe tbody tr th:only-of-type {\n",
       "        vertical-align: middle;\n",
       "    }\n",
       "\n",
       "    .dataframe tbody tr th {\n",
       "        vertical-align: top;\n",
       "    }\n",
       "\n",
       "    .dataframe thead th {\n",
       "        text-align: right;\n",
       "    }\n",
       "</style>\n",
       "<table border=\"1\" class=\"dataframe\">\n",
       "  <thead>\n",
       "    <tr style=\"text-align: right;\">\n",
       "      <th></th>\n",
       "      <th>primaryTitle</th>\n",
       "      <th>cleaned_string</th>\n",
       "    </tr>\n",
       "  </thead>\n",
       "  <tbody>\n",
       "    <tr>\n",
       "      <th>0</th>\n",
       "      <td>Arrivée d'un train gare de Vincennes</td>\n",
       "      <td>Arrivee d'un train gare de Vincennes</td>\n",
       "    </tr>\n",
       "    <tr>\n",
       "      <th>1</th>\n",
       "      <td>Batteuse à vapeur</td>\n",
       "      <td>Batteuse a vapeur</td>\n",
       "    </tr>\n",
       "    <tr>\n",
       "      <th>2</th>\n",
       "      <td>Bébé et fillettes</td>\n",
       "      <td>Bebe et fillettes</td>\n",
       "    </tr>\n",
       "    <tr>\n",
       "      <th>3</th>\n",
       "      <td>A Chegada do Comboio Inaugural à Estação Centr...</td>\n",
       "      <td>A Chegada do Comboio Inaugural a Estacao Centr...</td>\n",
       "    </tr>\n",
       "    <tr>\n",
       "      <th>4</th>\n",
       "      <td>Cortège de tzar allant à Versailles</td>\n",
       "      <td>Cortege de tzar allant a Versailles</td>\n",
       "    </tr>\n",
       "  </tbody>\n",
       "</table>\n",
       "</div>"
      ],
      "text/plain": [
       "                                        primaryTitle  \\\n",
       "0               Arrivée d'un train gare de Vincennes   \n",
       "1                                  Batteuse à vapeur   \n",
       "2                                  Bébé et fillettes   \n",
       "3  A Chegada do Comboio Inaugural à Estação Centr...   \n",
       "4                Cortège de tzar allant à Versailles   \n",
       "\n",
       "                                      cleaned_string  \n",
       "0               Arrivee d'un train gare de Vincennes  \n",
       "1                                  Batteuse a vapeur  \n",
       "2                                  Bebe et fillettes  \n",
       "3  A Chegada do Comboio Inaugural a Estacao Centr...  \n",
       "4                Cortege de tzar allant a Versailles  "
      ]
     },
     "metadata": {},
     "execution_count": 57
    }
   ],
   "metadata": {
    "id": "XBIxK9mODppf"
   }
  }
 ],
 "metadata": {
  "kernelspec": {
   "name": "python3",
   "display_name": "Python 3.8.2 64-bit ('venv': venv)"
  },
  "language_info": {
   "codemirror_mode": {
    "name": "ipython",
    "version": 3
   },
   "file_extension": ".py",
   "mimetype": "text/x-python",
   "name": "python",
   "nbconvert_exporter": "python",
   "pygments_lexer": "ipython3",
   "version": "3.8.2"
  },
  "interpreter": {
   "hash": "586c7e0e23797bf421a50cfd29d4295bfc6e4deefce747a7bc277aec76f44b5e"
  }
 },
 "nbformat": 4,
 "nbformat_minor": 5
}